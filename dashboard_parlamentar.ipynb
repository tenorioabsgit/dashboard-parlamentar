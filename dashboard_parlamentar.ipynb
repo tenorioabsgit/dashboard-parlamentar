{
 "cells": [
  {
   "cell_type": "code",
   "execution_count": 1,
   "id": "9b7626ce-f402-434b-811d-ed259a2417ca",
   "metadata": {},
   "outputs": [
    {
     "name": "stdout",
     "output_type": "stream",
     "text": [
      "Coletando dados dos deputados...\n"
     ]
    },
    {
     "name": "stderr",
     "output_type": "stream",
     "text": [
      "Processando deputados:   0%|                                                                   | 0/513 [00:00<?, ?it/s]"
     ]
    },
    {
     "name": "stdout",
     "output_type": "stream",
     "text": [
      "Buscando dados para o deputado Acácio Favacho (ID 204379)...\n"
     ]
    },
    {
     "name": "stderr",
     "output_type": "stream",
     "text": [
      "Processando deputados:   0%|                                                           | 1/513 [00:04<37:36,  4.41s/it]"
     ]
    },
    {
     "name": "stdout",
     "output_type": "stream",
     "text": [
      "Buscando dados para o deputado Adail Filho (ID 220714)...\n"
     ]
    },
    {
     "name": "stderr",
     "output_type": "stream",
     "text": [
      "Processando deputados:   0%|▏                                                          | 2/513 [00:05<20:17,  2.38s/it]"
     ]
    },
    {
     "name": "stdout",
     "output_type": "stream",
     "text": [
      "Buscando dados para o deputado Adilson Barroso (ID 221328)...\n"
     ]
    },
    {
     "name": "stderr",
     "output_type": "stream",
     "text": [
      "Processando deputados:   1%|▎                                                          | 3/513 [00:06<15:05,  1.77s/it]"
     ]
    },
    {
     "name": "stdout",
     "output_type": "stream",
     "text": [
      "Buscando dados para o deputado Adolfo Viana (ID 204560)...\n"
     ]
    },
    {
     "name": "stderr",
     "output_type": "stream",
     "text": [
      "Processando deputados:   1%|▍                                                          | 4/513 [00:07<12:45,  1.50s/it]"
     ]
    },
    {
     "name": "stdout",
     "output_type": "stream",
     "text": [
      "Buscando dados para o deputado Adriana Ventura (ID 204528)...\n"
     ]
    },
    {
     "name": "stderr",
     "output_type": "stream",
     "text": [
      "Processando deputados:   1%|▌                                                          | 5/513 [00:13<26:30,  3.13s/it]"
     ]
    },
    {
     "name": "stdout",
     "output_type": "stream",
     "text": [
      "Buscando dados para o deputado Adriano do Baldy (ID 121948)...\n"
     ]
    },
    {
     "name": "stderr",
     "output_type": "stream",
     "text": [
      "Processando deputados:   1%|▋                                                          | 6/513 [00:14<20:39,  2.44s/it]"
     ]
    },
    {
     "name": "stdout",
     "output_type": "stream",
     "text": [
      "Buscando dados para o deputado Aécio Neves (ID 74646)...\n"
     ]
    },
    {
     "name": "stderr",
     "output_type": "stream",
     "text": [
      "Processando deputados:   1%|▊                                                          | 7/513 [00:15<16:59,  2.01s/it]"
     ]
    },
    {
     "name": "stdout",
     "output_type": "stream",
     "text": [
      "Buscando dados para o deputado Afonso Hamm (ID 136811)...\n"
     ]
    },
    {
     "name": "stderr",
     "output_type": "stream",
     "text": [
      "Processando deputados:   2%|▉                                                          | 8/513 [00:16<14:08,  1.68s/it]"
     ]
    },
    {
     "name": "stdout",
     "output_type": "stream",
     "text": [
      "Buscando dados para o deputado Afonso Motta (ID 178835)...\n"
     ]
    },
    {
     "name": "stderr",
     "output_type": "stream",
     "text": [
      "Processando deputados:   2%|█                                                          | 9/513 [00:17<12:20,  1.47s/it]"
     ]
    },
    {
     "name": "stdout",
     "output_type": "stream",
     "text": [
      "Buscando dados para o deputado Aguinaldo Ribeiro (ID 160527)...\n"
     ]
    },
    {
     "name": "stderr",
     "output_type": "stream",
     "text": [
      "Processando deputados:   2%|█▏                                                        | 10/513 [00:18<10:56,  1.31s/it]"
     ]
    },
    {
     "name": "stdout",
     "output_type": "stream",
     "text": [
      "Buscando dados para o deputado Airton Faleiro (ID 204495)...\n"
     ]
    },
    {
     "name": "stderr",
     "output_type": "stream",
     "text": [
      "Processando deputados:   2%|█▏                                                        | 11/513 [00:19<10:01,  1.20s/it]"
     ]
    },
    {
     "name": "stdout",
     "output_type": "stream",
     "text": [
      "Buscando dados para o deputado AJ Albuquerque (ID 204549)...\n"
     ]
    },
    {
     "name": "stderr",
     "output_type": "stream",
     "text": [
      "Processando deputados:   2%|█▎                                                        | 12/513 [00:20<09:33,  1.14s/it]"
     ]
    },
    {
     "name": "stdout",
     "output_type": "stream",
     "text": [
      "Buscando dados para o deputado Alberto Fraga (ID 73579)...\n"
     ]
    },
    {
     "name": "stderr",
     "output_type": "stream",
     "text": [
      "Processando deputados:   3%|█▍                                                        | 13/513 [00:21<09:14,  1.11s/it]"
     ]
    },
    {
     "name": "stdout",
     "output_type": "stream",
     "text": [
      "Buscando dados para o deputado Albuquerque (ID 220538)...\n"
     ]
    },
    {
     "name": "stderr",
     "output_type": "stream",
     "text": [
      "Processando deputados:   3%|█▌                                                        | 14/513 [00:22<09:02,  1.09s/it]"
     ]
    },
    {
     "name": "stdout",
     "output_type": "stream",
     "text": [
      "Buscando dados para o deputado Alceu Moreira (ID 160559)...\n"
     ]
    },
    {
     "name": "stderr",
     "output_type": "stream",
     "text": [
      "Processando deputados:   3%|█▋                                                        | 15/513 [00:23<08:39,  1.04s/it]"
     ]
    },
    {
     "name": "stdout",
     "output_type": "stream",
     "text": [
      "Buscando dados para o deputado Alencar Santana (ID 204501)...\n"
     ]
    },
    {
     "name": "stderr",
     "output_type": "stream",
     "text": [
      "Processando deputados:   3%|█▊                                                        | 16/513 [00:24<08:39,  1.04s/it]"
     ]
    },
    {
     "name": "stdout",
     "output_type": "stream",
     "text": [
      "Buscando dados para o deputado Alex Manente (ID 178972)...\n"
     ]
    },
    {
     "name": "stderr",
     "output_type": "stream",
     "text": [
      "Processando deputados:   3%|█▉                                                        | 17/513 [00:25<08:29,  1.03s/it]"
     ]
    },
    {
     "name": "stdout",
     "output_type": "stream",
     "text": [
      "Buscando dados para o deputado Alex Santana (ID 204571)...\n"
     ]
    },
    {
     "name": "stderr",
     "output_type": "stream",
     "text": [
      "Processando deputados:   4%|██                                                        | 18/513 [00:26<08:24,  1.02s/it]"
     ]
    },
    {
     "name": "stdout",
     "output_type": "stream",
     "text": [
      "Buscando dados para o deputado Alexandre Guimarães (ID 220542)...\n"
     ]
    },
    {
     "name": "stderr",
     "output_type": "stream",
     "text": [
      "Processando deputados:   4%|██▏                                                       | 19/513 [00:27<08:19,  1.01s/it]"
     ]
    },
    {
     "name": "stdout",
     "output_type": "stream",
     "text": [
      "Buscando dados para o deputado Alexandre Leite (ID 160545)...\n"
     ]
    },
    {
     "name": "stderr",
     "output_type": "stream",
     "text": [
      "Processando deputados:   4%|██▎                                                       | 20/513 [00:28<08:34,  1.04s/it]"
     ]
    },
    {
     "name": "stdout",
     "output_type": "stream",
     "text": [
      "Buscando dados para o deputado Alexandre Lindenmeyer (ID 220554)...\n"
     ]
    },
    {
     "name": "stderr",
     "output_type": "stream",
     "text": [
      "Processando deputados:   4%|██▎                                                       | 21/513 [00:29<08:45,  1.07s/it]"
     ]
    },
    {
     "name": "stdout",
     "output_type": "stream",
     "text": [
      "Buscando dados para o deputado Alfredinho (ID 221148)...\n"
     ]
    },
    {
     "name": "stderr",
     "output_type": "stream",
     "text": [
      "Processando deputados:   4%|██▍                                                       | 22/513 [00:30<08:30,  1.04s/it]"
     ]
    },
    {
     "name": "stdout",
     "output_type": "stream",
     "text": [
      "Buscando dados para o deputado Alfredo Gaspar (ID 220576)...\n"
     ]
    },
    {
     "name": "stderr",
     "output_type": "stream",
     "text": [
      "Processando deputados:   4%|██▌                                                       | 23/513 [00:31<08:23,  1.03s/it]"
     ]
    },
    {
     "name": "stdout",
     "output_type": "stream",
     "text": [
      "Buscando dados para o deputado Alice Portugal (ID 74057)...\n"
     ]
    },
    {
     "name": "stderr",
     "output_type": "stream",
     "text": [
      "Processando deputados:   5%|██▋                                                       | 24/513 [00:32<08:19,  1.02s/it]"
     ]
    },
    {
     "name": "stdout",
     "output_type": "stream",
     "text": [
      "Buscando dados para o deputado Aliel Machado (ID 178927)...\n"
     ]
    },
    {
     "name": "stderr",
     "output_type": "stream",
     "text": [
      "Processando deputados:   5%|██▊                                                       | 25/513 [00:34<08:43,  1.07s/it]"
     ]
    },
    {
     "name": "stdout",
     "output_type": "stream",
     "text": [
      "Buscando dados para o deputado Allan Garcês (ID 226708)...\n"
     ]
    },
    {
     "name": "stderr",
     "output_type": "stream",
     "text": [
      "Processando deputados:   5%|██▉                                                       | 26/513 [00:35<08:27,  1.04s/it]"
     ]
    },
    {
     "name": "stdout",
     "output_type": "stream",
     "text": [
      "Buscando dados para o deputado Altineu Côrtes (ID 178937)...\n"
     ]
    },
    {
     "name": "stderr",
     "output_type": "stream",
     "text": [
      "Processando deputados:   5%|███                                                       | 27/513 [00:36<08:32,  1.05s/it]"
     ]
    },
    {
     "name": "stdout",
     "output_type": "stream",
     "text": [
      "Buscando dados para o deputado Aluisio Mendes (ID 178881)...\n"
     ]
    },
    {
     "name": "stderr",
     "output_type": "stream",
     "text": [
      "Processando deputados:   5%|███▏                                                      | 28/513 [00:37<08:43,  1.08s/it]"
     ]
    },
    {
     "name": "stdout",
     "output_type": "stream",
     "text": [
      "Buscando dados para o deputado Amanda Gentil (ID 220707)...\n"
     ]
    },
    {
     "name": "stderr",
     "output_type": "stream",
     "text": [
      "Processando deputados:   6%|███▎                                                      | 29/513 [00:38<08:37,  1.07s/it]"
     ]
    },
    {
     "name": "stdout",
     "output_type": "stream",
     "text": [
      "Buscando dados para o deputado Amaro Neto (ID 204356)...\n"
     ]
    },
    {
     "name": "stderr",
     "output_type": "stream",
     "text": [
      "Processando deputados:   6%|███▍                                                      | 30/513 [00:39<08:28,  1.05s/it]"
     ]
    },
    {
     "name": "stdout",
     "output_type": "stream",
     "text": [
      "Buscando dados para o deputado Amom Mandel (ID 220715)...\n"
     ]
    },
    {
     "name": "stderr",
     "output_type": "stream",
     "text": [
      "Processando deputados:   6%|███▌                                                      | 31/513 [00:40<08:22,  1.04s/it]"
     ]
    },
    {
     "name": "stdout",
     "output_type": "stream",
     "text": [
      "Buscando dados para o deputado Ana Paula Leão (ID 107970)...\n"
     ]
    },
    {
     "name": "stderr",
     "output_type": "stream",
     "text": [
      "Processando deputados:   6%|███▌                                                      | 32/513 [00:41<08:18,  1.04s/it]"
     ]
    },
    {
     "name": "stdout",
     "output_type": "stream",
     "text": [
      "Buscando dados para o deputado Ana Paula Lima (ID 220556)...\n"
     ]
    },
    {
     "name": "stderr",
     "output_type": "stream",
     "text": [
      "Processando deputados:   6%|███▋                                                      | 33/513 [00:42<08:15,  1.03s/it]"
     ]
    },
    {
     "name": "stdout",
     "output_type": "stream",
     "text": [
      "Buscando dados para o deputado Ana Pimentel (ID 220632)...\n"
     ]
    },
    {
     "name": "stderr",
     "output_type": "stream",
     "text": [
      "Processando deputados:   7%|███▊                                                      | 34/513 [00:43<08:08,  1.02s/it]"
     ]
    },
    {
     "name": "stdout",
     "output_type": "stream",
     "text": [
      "Buscando dados para o deputado André Fernandes (ID 220657)...\n"
     ]
    },
    {
     "name": "stderr",
     "output_type": "stream",
     "text": [
      "Processando deputados:   7%|███▉                                                      | 35/513 [00:44<08:03,  1.01s/it]"
     ]
    },
    {
     "name": "stdout",
     "output_type": "stream",
     "text": [
      "Buscando dados para o deputado André Ferreira (ID 204423)...\n"
     ]
    },
    {
     "name": "stderr",
     "output_type": "stream",
     "text": [
      "Processando deputados:   7%|████                                                      | 36/513 [00:45<08:06,  1.02s/it]"
     ]
    },
    {
     "name": "stdout",
     "output_type": "stream",
     "text": [
      "Buscando dados para o deputado André Figueiredo (ID 133439)...\n"
     ]
    },
    {
     "name": "stderr",
     "output_type": "stream",
     "text": [
      "Processando deputados:   7%|████▏                                                     | 37/513 [00:46<08:05,  1.02s/it]"
     ]
    },
    {
     "name": "stdout",
     "output_type": "stream",
     "text": [
      "Buscando dados para o deputado André Janones (ID 204515)...\n"
     ]
    },
    {
     "name": "stderr",
     "output_type": "stream",
     "text": [
      "Processando deputados:   7%|████▎                                                     | 38/513 [00:47<08:11,  1.03s/it]"
     ]
    },
    {
     "name": "stdout",
     "output_type": "stream",
     "text": [
      "Buscando dados para o deputado Andreia Siqueira (ID 220676)...\n"
     ]
    },
    {
     "name": "stderr",
     "output_type": "stream",
     "text": [
      "Processando deputados:   8%|████▍                                                     | 39/513 [00:48<08:15,  1.05s/it]"
     ]
    },
    {
     "name": "stdout",
     "output_type": "stream",
     "text": [
      "Buscando dados para o deputado Antônia Lúcia (ID 123756)...\n"
     ]
    },
    {
     "name": "stderr",
     "output_type": "stream",
     "text": [
      "Processando deputados:   8%|████▌                                                     | 40/513 [00:49<08:18,  1.05s/it]"
     ]
    },
    {
     "name": "stdout",
     "output_type": "stream",
     "text": [
      "Buscando dados para o deputado Antonio Andrade (ID 220544)...\n"
     ]
    },
    {
     "name": "stderr",
     "output_type": "stream",
     "text": [
      "Processando deputados:   8%|████▋                                                     | 41/513 [00:50<08:16,  1.05s/it]"
     ]
    },
    {
     "name": "stdout",
     "output_type": "stream",
     "text": [
      "Buscando dados para o deputado Antonio Brito (ID 160553)...\n"
     ]
    },
    {
     "name": "stderr",
     "output_type": "stream",
     "text": [
      "Processando deputados:   8%|████▋                                                     | 42/513 [00:51<08:02,  1.02s/it]"
     ]
    },
    {
     "name": "stdout",
     "output_type": "stream",
     "text": [
      "Buscando dados para o deputado Antonio Carlos Rodrigues (ID 220638)...\n"
     ]
    },
    {
     "name": "stderr",
     "output_type": "stream",
     "text": [
      "Processando deputados:   8%|████▊                                                     | 43/513 [00:52<07:54,  1.01s/it]"
     ]
    },
    {
     "name": "stdout",
     "output_type": "stream",
     "text": [
      "Buscando dados para o deputado Antônio Doido (ID 220675)...\n"
     ]
    },
    {
     "name": "stderr",
     "output_type": "stream",
     "text": [
      "Processando deputados:   9%|████▉                                                     | 44/513 [00:53<07:54,  1.01s/it]"
     ]
    },
    {
     "name": "stdout",
     "output_type": "stream",
     "text": [
      "Buscando dados para o deputado Any Ortiz (ID 220549)...\n"
     ]
    },
    {
     "name": "stderr",
     "output_type": "stream",
     "text": [
      "Processando deputados:   9%|█████                                                     | 45/513 [00:54<07:52,  1.01s/it]"
     ]
    },
    {
     "name": "stdout",
     "output_type": "stream",
     "text": [
      "Buscando dados para o deputado Arlindo Chinaglia (ID 73433)...\n"
     ]
    },
    {
     "name": "stderr",
     "output_type": "stream",
     "text": [
      "Processando deputados:   9%|█████▏                                                    | 46/513 [00:55<08:13,  1.06s/it]"
     ]
    },
    {
     "name": "stdout",
     "output_type": "stream",
     "text": [
      "Buscando dados para o deputado Arnaldo Jardim (ID 141391)...\n"
     ]
    },
    {
     "name": "stderr",
     "output_type": "stream",
     "text": [
      "Processando deputados:   9%|█████▎                                                    | 47/513 [00:56<08:16,  1.07s/it]"
     ]
    },
    {
     "name": "stdout",
     "output_type": "stream",
     "text": [
      "Buscando dados para o deputado Arthur Lira (ID 160541)...\n"
     ]
    },
    {
     "name": "stderr",
     "output_type": "stream",
     "text": [
      "Processando deputados:   9%|█████▍                                                    | 48/513 [00:57<08:03,  1.04s/it]"
     ]
    },
    {
     "name": "stdout",
     "output_type": "stream",
     "text": [
      "Buscando dados para o deputado Arthur Oliveira Maia (ID 160600)...\n"
     ]
    },
    {
     "name": "stderr",
     "output_type": "stream",
     "text": [
      "Processando deputados:  10%|█████▌                                                    | 49/513 [00:58<07:57,  1.03s/it]"
     ]
    },
    {
     "name": "stdout",
     "output_type": "stream",
     "text": [
      "Buscando dados para o deputado Átila Lins (ID 74090)...\n"
     ]
    },
    {
     "name": "stderr",
     "output_type": "stream",
     "text": [
      "Processando deputados:  10%|█████▋                                                    | 50/513 [00:59<07:58,  1.03s/it]"
     ]
    },
    {
     "name": "stdout",
     "output_type": "stream",
     "text": [
      "Buscando dados para o deputado Átila Lira (ID 123086)...\n"
     ]
    },
    {
     "name": "stderr",
     "output_type": "stream",
     "text": [
      "Processando deputados:  10%|█████▊                                                    | 51/513 [01:00<07:54,  1.03s/it]"
     ]
    },
    {
     "name": "stdout",
     "output_type": "stream",
     "text": [
      "Buscando dados para o deputado Augusto Coutinho (ID 160665)...\n"
     ]
    },
    {
     "name": "stderr",
     "output_type": "stream",
     "text": [
      "Processando deputados:  10%|█████▉                                                    | 52/513 [01:02<08:11,  1.07s/it]"
     ]
    },
    {
     "name": "stdout",
     "output_type": "stream",
     "text": [
      "Buscando dados para o deputado Augusto Puppio (ID 220577)...\n"
     ]
    },
    {
     "name": "stderr",
     "output_type": "stream",
     "text": [
      "Processando deputados:  10%|█████▉                                                    | 53/513 [01:03<07:53,  1.03s/it]"
     ]
    },
    {
     "name": "stdout",
     "output_type": "stream",
     "text": [
      "Buscando dados para o deputado Aureo Ribeiro (ID 160512)...\n"
     ]
    },
    {
     "name": "stderr",
     "output_type": "stream",
     "text": [
      "Processando deputados:  11%|██████                                                    | 54/513 [01:04<08:04,  1.06s/it]"
     ]
    },
    {
     "name": "stdout",
     "output_type": "stream",
     "text": [
      "Buscando dados para o deputado Bacelar (ID 69871)...\n"
     ]
    },
    {
     "name": "stderr",
     "output_type": "stream",
     "text": [
      "Processando deputados:  11%|██████▏                                                   | 55/513 [01:05<07:50,  1.03s/it]"
     ]
    },
    {
     "name": "stdout",
     "output_type": "stream",
     "text": [
      "Buscando dados para o deputado Baleia Rossi (ID 178975)...\n"
     ]
    },
    {
     "name": "stderr",
     "output_type": "stream",
     "text": [
      "Processando deputados:  11%|██████▎                                                   | 56/513 [01:06<08:03,  1.06s/it]"
     ]
    },
    {
     "name": "stdout",
     "output_type": "stream",
     "text": [
      "Buscando dados para o deputado Bandeira de Mello (ID 220605)...\n"
     ]
    },
    {
     "name": "stderr",
     "output_type": "stream",
     "text": [
      "Processando deputados:  11%|██████▍                                                   | 57/513 [01:07<08:01,  1.06s/it]"
     ]
    },
    {
     "name": "stdout",
     "output_type": "stream",
     "text": [
      "Buscando dados para o deputado Bebeto (ID 220612)...\n"
     ]
    },
    {
     "name": "stderr",
     "output_type": "stream",
     "text": [
      "Processando deputados:  11%|██████▌                                                   | 58/513 [01:08<07:55,  1.05s/it]"
     ]
    },
    {
     "name": "stdout",
     "output_type": "stream",
     "text": [
      "Buscando dados para o deputado Benedita da Silva (ID 73701)...\n"
     ]
    },
    {
     "name": "stderr",
     "output_type": "stream",
     "text": [
      "Processando deputados:  12%|██████▋                                                   | 59/513 [01:09<08:06,  1.07s/it]"
     ]
    },
    {
     "name": "stdout",
     "output_type": "stream",
     "text": [
      "Buscando dados para o deputado Benes Leocádio (ID 109429)...\n"
     ]
    },
    {
     "name": "stderr",
     "output_type": "stream",
     "text": [
      "Processando deputados:  12%|██████▊                                                   | 60/513 [01:10<08:10,  1.08s/it]"
     ]
    },
    {
     "name": "stdout",
     "output_type": "stream",
     "text": [
      "Buscando dados para o deputado Beto Pereira (ID 204358)...\n"
     ]
    },
    {
     "name": "stderr",
     "output_type": "stream",
     "text": [
      "Processando deputados:  12%|██████▉                                                   | 61/513 [01:11<07:58,  1.06s/it]"
     ]
    },
    {
     "name": "stdout",
     "output_type": "stream",
     "text": [
      "Buscando dados para o deputado Beto Richa (ID 220683)...\n"
     ]
    },
    {
     "name": "stderr",
     "output_type": "stream",
     "text": [
      "Processando deputados:  12%|███████                                                   | 62/513 [01:12<07:48,  1.04s/it]"
     ]
    },
    {
     "name": "stdout",
     "output_type": "stream",
     "text": [
      "Buscando dados para o deputado Bia Kicis (ID 204374)...\n"
     ]
    },
    {
     "name": "stderr",
     "output_type": "stream",
     "text": [
      "Processando deputados:  12%|███████                                                   | 63/513 [01:13<07:53,  1.05s/it]"
     ]
    },
    {
     "name": "stdout",
     "output_type": "stream",
     "text": [
      "Buscando dados para o deputado Bibo Nunes (ID 204388)...\n"
     ]
    },
    {
     "name": "stderr",
     "output_type": "stream",
     "text": [
      "Processando deputados:  12%|███████▏                                                  | 64/513 [01:14<08:23,  1.12s/it]"
     ]
    },
    {
     "name": "stdout",
     "output_type": "stream",
     "text": [
      "Buscando dados para o deputado Bohn Gass (ID 160538)...\n"
     ]
    },
    {
     "name": "stderr",
     "output_type": "stream",
     "text": [
      "Processando deputados:  13%|███████▎                                                  | 65/513 [01:16<09:06,  1.22s/it]"
     ]
    },
    {
     "name": "stdout",
     "output_type": "stream",
     "text": [
      "Buscando dados para o deputado Bruno Farias (ID 210989)...\n"
     ]
    },
    {
     "name": "stderr",
     "output_type": "stream",
     "text": [
      "Processando deputados:  13%|███████▍                                                  | 66/513 [01:17<08:45,  1.18s/it]"
     ]
    },
    {
     "name": "stdout",
     "output_type": "stream",
     "text": [
      "Buscando dados para o deputado Bruno Ganem (ID 220635)...\n"
     ]
    },
    {
     "name": "stderr",
     "output_type": "stream",
     "text": [
      "Processando deputados:  13%|███████▌                                                  | 67/513 [01:18<08:23,  1.13s/it]"
     ]
    },
    {
     "name": "stdout",
     "output_type": "stream",
     "text": [
      "Buscando dados para o deputado Cabo Gilberto Silva (ID 220574)...\n"
     ]
    },
    {
     "name": "stderr",
     "output_type": "stream",
     "text": [
      "Processando deputados:  13%|███████▋                                                  | 68/513 [01:19<08:01,  1.08s/it]"
     ]
    },
    {
     "name": "stdout",
     "output_type": "stream",
     "text": [
      "Buscando dados para o deputado Camila Jara (ID 220548)...\n"
     ]
    },
    {
     "name": "stderr",
     "output_type": "stream",
     "text": [
      "Processando deputados:  13%|███████▊                                                  | 69/513 [01:20<07:51,  1.06s/it]"
     ]
    },
    {
     "name": "stdout",
     "output_type": "stream",
     "text": [
      "Buscando dados para o deputado Capitão Alberto Neto (ID 204572)...\n"
     ]
    },
    {
     "name": "stderr",
     "output_type": "stream",
     "text": [
      "Processando deputados:  14%|███████▉                                                  | 70/513 [01:21<07:38,  1.04s/it]"
     ]
    },
    {
     "name": "stdout",
     "output_type": "stream",
     "text": [
      "Buscando dados para o deputado Capitão Alden (ID 220690)...\n"
     ]
    },
    {
     "name": "stderr",
     "output_type": "stream",
     "text": [
      "Processando deputados:  14%|████████                                                  | 71/513 [01:22<07:30,  1.02s/it]"
     ]
    },
    {
     "name": "stdout",
     "output_type": "stream",
     "text": [
      "Buscando dados para o deputado Capitão Augusto (ID 178829)...\n"
     ]
    },
    {
     "name": "stderr",
     "output_type": "stream",
     "text": [
      "Processando deputados:  14%|████████▏                                                 | 72/513 [01:23<07:40,  1.05s/it]"
     ]
    },
    {
     "name": "stdout",
     "output_type": "stream",
     "text": [
      "Buscando dados para o deputado Carla Dickson (ID 213762)...\n"
     ]
    },
    {
     "name": "stderr",
     "output_type": "stream",
     "text": [
      "Processando deputados:  14%|████████▎                                                 | 73/513 [01:24<07:33,  1.03s/it]"
     ]
    },
    {
     "name": "stdout",
     "output_type": "stream",
     "text": [
      "Buscando dados para o deputado Carla Zambelli (ID 204507)...\n"
     ]
    },
    {
     "name": "stderr",
     "output_type": "stream",
     "text": [
      "Processando deputados:  14%|████████▎                                                 | 74/513 [01:25<07:26,  1.02s/it]"
     ]
    },
    {
     "name": "stdout",
     "output_type": "stream",
     "text": [
      "Buscando dados para o deputado Carlos Chiodini (ID 204361)...\n"
     ]
    },
    {
     "name": "stderr",
     "output_type": "stream",
     "text": [
      "Processando deputados:  15%|████████▍                                                 | 75/513 [01:26<07:44,  1.06s/it]"
     ]
    },
    {
     "name": "stdout",
     "output_type": "stream",
     "text": [
      "Buscando dados para o deputado Carlos Henrique Gaguim (ID 178993)...\n"
     ]
    },
    {
     "name": "stderr",
     "output_type": "stream",
     "text": [
      "Processando deputados:  15%|████████▌                                                 | 76/513 [01:27<07:36,  1.04s/it]"
     ]
    },
    {
     "name": "stdout",
     "output_type": "stream",
     "text": [
      "Buscando dados para o deputado Carlos Jordy (ID 204460)...\n"
     ]
    },
    {
     "name": "stderr",
     "output_type": "stream",
     "text": [
      "Processando deputados:  15%|████████▋                                                 | 77/513 [01:28<07:38,  1.05s/it]"
     ]
    },
    {
     "name": "stdout",
     "output_type": "stream",
     "text": [
      "Buscando dados para o deputado Carlos Sampaio (ID 74262)...\n"
     ]
    },
    {
     "name": "stderr",
     "output_type": "stream",
     "text": [
      "Processando deputados:  15%|████████▊                                                 | 78/513 [01:29<07:41,  1.06s/it]"
     ]
    },
    {
     "name": "stdout",
     "output_type": "stream",
     "text": [
      "Buscando dados para o deputado Carlos Veras (ID 204426)...\n"
     ]
    },
    {
     "name": "stderr",
     "output_type": "stream",
     "text": [
      "Processando deputados:  15%|████████▉                                                 | 79/513 [01:30<07:41,  1.06s/it]"
     ]
    },
    {
     "name": "stdout",
     "output_type": "stream",
     "text": [
      "Buscando dados para o deputado Carlos Zarattini (ID 141398)...\n"
     ]
    },
    {
     "name": "stderr",
     "output_type": "stream",
     "text": [
      "Processando deputados:  16%|█████████                                                 | 80/513 [01:31<07:27,  1.03s/it]"
     ]
    },
    {
     "name": "stdout",
     "output_type": "stream",
     "text": [
      "Buscando dados para o deputado Carol Dartora (ID 220704)...\n"
     ]
    },
    {
     "name": "stderr",
     "output_type": "stream",
     "text": [
      "Processando deputados:  16%|█████████▏                                                | 81/513 [01:32<07:19,  1.02s/it]"
     ]
    },
    {
     "name": "stdout",
     "output_type": "stream",
     "text": [
      "Buscando dados para o deputado Caroline de Toni (ID 204369)...\n"
     ]
    },
    {
     "name": "stderr",
     "output_type": "stream",
     "text": [
      "Processando deputados:  16%|█████████▎                                                | 82/513 [01:33<07:21,  1.02s/it]"
     ]
    },
    {
     "name": "stdout",
     "output_type": "stream",
     "text": [
      "Buscando dados para o deputado Castro Neto (ID 220699)...\n"
     ]
    },
    {
     "name": "stderr",
     "output_type": "stream",
     "text": [
      "Processando deputados:  16%|█████████▍                                                | 83/513 [01:34<07:14,  1.01s/it]"
     ]
    },
    {
     "name": "stdout",
     "output_type": "stream",
     "text": [
      "Buscando dados para o deputado Célia Xakriabá (ID 206018)...\n"
     ]
    },
    {
     "name": "stderr",
     "output_type": "stream",
     "text": [
      "Processando deputados:  16%|█████████▍                                                | 84/513 [01:35<07:18,  1.02s/it]"
     ]
    },
    {
     "name": "stdout",
     "output_type": "stream",
     "text": [
      "Buscando dados para o deputado Célio Silveira (ID 178876)...\n"
     ]
    },
    {
     "name": "stderr",
     "output_type": "stream",
     "text": [
      "Processando deputados:  17%|█████████▌                                                | 85/513 [01:37<07:28,  1.05s/it]"
     ]
    },
    {
     "name": "stdout",
     "output_type": "stream",
     "text": [
      "Buscando dados para o deputado Célio Studart (ID 204488)...\n"
     ]
    },
    {
     "name": "stderr",
     "output_type": "stream",
     "text": [
      "Processando deputados:  17%|█████████▋                                                | 86/513 [01:38<07:33,  1.06s/it]"
     ]
    },
    {
     "name": "stdout",
     "output_type": "stream",
     "text": [
      "Buscando dados para o deputado Celso Russomanno (ID 73441)...\n"
     ]
    },
    {
     "name": "stderr",
     "output_type": "stream",
     "text": [
      "Processando deputados:  17%|█████████▊                                                | 87/513 [01:39<07:51,  1.11s/it]"
     ]
    },
    {
     "name": "stdout",
     "output_type": "stream",
     "text": [
      "Buscando dados para o deputado Cezinha de Madureira (ID 204504)...\n"
     ]
    },
    {
     "name": "stderr",
     "output_type": "stream",
     "text": [
      "Processando deputados:  17%|█████████▉                                                | 88/513 [01:40<07:50,  1.11s/it]"
     ]
    },
    {
     "name": "stdout",
     "output_type": "stream",
     "text": [
      "Buscando dados para o deputado Charles Fernandes (ID 205476)...\n"
     ]
    },
    {
     "name": "stderr",
     "output_type": "stream",
     "text": [
      "Processando deputados:  17%|██████████                                                | 89/513 [01:41<07:40,  1.09s/it]"
     ]
    },
    {
     "name": "stdout",
     "output_type": "stream",
     "text": [
      "Buscando dados para o deputado Chico Alencar (ID 74171)...\n"
     ]
    },
    {
     "name": "stderr",
     "output_type": "stream",
     "text": [
      "Processando deputados:  18%|██████████▏                                               | 90/513 [01:42<07:21,  1.04s/it]"
     ]
    },
    {
     "name": "stdout",
     "output_type": "stream",
     "text": [
      "Buscando dados para o deputado Chiquinho Brazão (ID 204476)...\n"
     ]
    },
    {
     "name": "stderr",
     "output_type": "stream",
     "text": [
      "Processando deputados:  18%|██████████▎                                               | 91/513 [01:43<07:14,  1.03s/it]"
     ]
    },
    {
     "name": "stdout",
     "output_type": "stream",
     "text": [
      "Buscando dados para o deputado Chris Tonietto (ID 204462)...\n"
     ]
    },
    {
     "name": "stderr",
     "output_type": "stream",
     "text": [
      "Processando deputados:  18%|██████████▍                                               | 92/513 [01:44<07:15,  1.04s/it]"
     ]
    },
    {
     "name": "stdout",
     "output_type": "stream",
     "text": [
      "Buscando dados para o deputado Clarissa Tércio (ID 220665)...\n"
     ]
    },
    {
     "name": "stderr",
     "output_type": "stream",
     "text": [
      "Processando deputados:  18%|██████████▌                                               | 93/513 [01:45<07:15,  1.04s/it]"
     ]
    },
    {
     "name": "stdout",
     "output_type": "stream",
     "text": [
      "Buscando dados para o deputado Claudio Cajado (ID 74537)...\n"
     ]
    },
    {
     "name": "stderr",
     "output_type": "stream",
     "text": [
      "Processando deputados:  18%|██████████▋                                               | 94/513 [01:46<07:36,  1.09s/it]"
     ]
    },
    {
     "name": "stdout",
     "output_type": "stream",
     "text": [
      "Buscando dados para o deputado Cleber Verde (ID 141408)...\n"
     ]
    },
    {
     "name": "stderr",
     "output_type": "stream",
     "text": [
      "Processando deputados:  19%|██████████▋                                               | 95/513 [01:47<07:20,  1.05s/it]"
     ]
    },
    {
     "name": "stdout",
     "output_type": "stream",
     "text": [
      "Buscando dados para o deputado Clodoaldo Magalhães (ID 88256)...\n"
     ]
    },
    {
     "name": "stderr",
     "output_type": "stream",
     "text": [
      "Processando deputados:  19%|██████████▊                                               | 96/513 [01:48<07:15,  1.04s/it]"
     ]
    },
    {
     "name": "stdout",
     "output_type": "stream",
     "text": [
      "Buscando dados para o deputado Cobalchini (ID 98148)...\n"
     ]
    },
    {
     "name": "stderr",
     "output_type": "stream",
     "text": [
      "Processando deputados:  19%|██████████▉                                               | 97/513 [01:49<07:20,  1.06s/it]"
     ]
    },
    {
     "name": "stdout",
     "output_type": "stream",
     "text": [
      "Buscando dados para o deputado Coronel Assis (ID 220594)...\n"
     ]
    },
    {
     "name": "stderr",
     "output_type": "stream",
     "text": [
      "Processando deputados:  19%|███████████                                               | 98/513 [01:50<07:14,  1.05s/it]"
     ]
    },
    {
     "name": "stdout",
     "output_type": "stream",
     "text": [
      "Buscando dados para o deputado Coronel Chrisóstomo (ID 204378)...\n"
     ]
    },
    {
     "name": "stderr",
     "output_type": "stream",
     "text": [
      "Processando deputados:  19%|███████████▏                                              | 99/513 [01:51<07:08,  1.03s/it]"
     ]
    },
    {
     "name": "stdout",
     "output_type": "stream",
     "text": [
      "Buscando dados para o deputado Coronel Fernanda (ID 220595)...\n"
     ]
    },
    {
     "name": "stderr",
     "output_type": "stream",
     "text": [
      "Processando deputados:  19%|███████████                                              | 100/513 [01:52<07:10,  1.04s/it]"
     ]
    },
    {
     "name": "stdout",
     "output_type": "stream",
     "text": [
      "Buscando dados para o deputado Coronel Meira (ID 220666)...\n"
     ]
    },
    {
     "name": "stderr",
     "output_type": "stream",
     "text": [
      "Processando deputados:  20%|███████████▏                                             | 101/513 [01:53<07:08,  1.04s/it]"
     ]
    },
    {
     "name": "stdout",
     "output_type": "stream",
     "text": [
      "Buscando dados para o deputado Coronel Ulysses (ID 220590)...\n"
     ]
    },
    {
     "name": "stderr",
     "output_type": "stream",
     "text": [
      "Processando deputados:  20%|███████████▎                                             | 102/513 [01:54<07:03,  1.03s/it]"
     ]
    },
    {
     "name": "stdout",
     "output_type": "stream",
     "text": [
      "Buscando dados para o deputado Covatti Filho (ID 178963)...\n"
     ]
    },
    {
     "name": "stderr",
     "output_type": "stream",
     "text": [
      "Processando deputados:  20%|███████████▍                                             | 103/513 [01:56<07:08,  1.05s/it]"
     ]
    },
    {
     "name": "stdout",
     "output_type": "stream",
     "text": [
      "Buscando dados para o deputado Cristiane Lopes (ID 220608)...\n"
     ]
    },
    {
     "name": "stderr",
     "output_type": "stream",
     "text": [
      "Processando deputados:  20%|███████████▌                                             | 104/513 [01:57<07:09,  1.05s/it]"
     ]
    },
    {
     "name": "stdout",
     "output_type": "stream",
     "text": [
      "Buscando dados para o deputado Da Vitoria (ID 204355)...\n"
     ]
    },
    {
     "name": "stderr",
     "output_type": "stream",
     "text": [
      "Processando deputados:  20%|███████████▋                                             | 105/513 [01:58<07:08,  1.05s/it]"
     ]
    },
    {
     "name": "stdout",
     "output_type": "stream",
     "text": [
      "Buscando dados para o deputado Dagoberto Nogueira (ID 141411)...\n"
     ]
    },
    {
     "name": "stderr",
     "output_type": "stream",
     "text": [
      "Processando deputados:  21%|███████████▊                                             | 106/513 [01:59<07:12,  1.06s/it]"
     ]
    },
    {
     "name": "stdout",
     "output_type": "stream",
     "text": [
      "Buscando dados para o deputado Daiana Santos (ID 220555)...\n"
     ]
    },
    {
     "name": "stderr",
     "output_type": "stream",
     "text": [
      "Processando deputados:  21%|███████████▉                                             | 107/513 [02:00<07:04,  1.04s/it]"
     ]
    },
    {
     "name": "stdout",
     "output_type": "stream",
     "text": [
      "Buscando dados para o deputado Dal Barreto (ID 220692)...\n"
     ]
    },
    {
     "name": "stderr",
     "output_type": "stream",
     "text": [
      "Processando deputados:  21%|████████████                                             | 108/513 [02:01<06:56,  1.03s/it]"
     ]
    },
    {
     "name": "stdout",
     "output_type": "stream",
     "text": [
      "Buscando dados para o deputado Damião Feliciano (ID 74467)...\n"
     ]
    },
    {
     "name": "stderr",
     "output_type": "stream",
     "text": [
      "Processando deputados:  21%|████████████                                             | 109/513 [02:02<06:59,  1.04s/it]"
     ]
    },
    {
     "name": "stdout",
     "output_type": "stream",
     "text": [
      "Buscando dados para o deputado Dandara (ID 220629)...\n"
     ]
    },
    {
     "name": "stderr",
     "output_type": "stream",
     "text": [
      "Processando deputados:  21%|████████████▏                                            | 110/513 [02:03<06:54,  1.03s/it]"
     ]
    },
    {
     "name": "stdout",
     "output_type": "stream",
     "text": [
      "Buscando dados para o deputado Dani Cunha (ID 220603)...\n"
     ]
    },
    {
     "name": "stderr",
     "output_type": "stream",
     "text": [
      "Processando deputados:  22%|████████████▎                                            | 111/513 [02:04<06:48,  1.02s/it]"
     ]
    },
    {
     "name": "stdout",
     "output_type": "stream",
     "text": [
      "Buscando dados para o deputado Daniel Agrobom (ID 220571)...\n"
     ]
    },
    {
     "name": "stderr",
     "output_type": "stream",
     "text": [
      "Processando deputados:  22%|████████████▍                                            | 112/513 [02:05<06:52,  1.03s/it]"
     ]
    },
    {
     "name": "stdout",
     "output_type": "stream",
     "text": [
      "Buscando dados para o deputado Daniel Almeida (ID 74060)...\n"
     ]
    },
    {
     "name": "stderr",
     "output_type": "stream",
     "text": [
      "Processando deputados:  22%|████████████▌                                            | 113/513 [02:06<07:06,  1.07s/it]"
     ]
    },
    {
     "name": "stdout",
     "output_type": "stream",
     "text": [
      "Buscando dados para o deputado Daniel Barbosa (ID 220582)...\n"
     ]
    },
    {
     "name": "stderr",
     "output_type": "stream",
     "text": [
      "Processando deputados:  22%|████████████▋                                            | 114/513 [02:07<06:53,  1.04s/it]"
     ]
    },
    {
     "name": "stdout",
     "output_type": "stream",
     "text": [
      "Buscando dados para o deputado Daniel Freitas (ID 204367)...\n"
     ]
    },
    {
     "name": "stderr",
     "output_type": "stream",
     "text": [
      "Processando deputados:  22%|████████████▊                                            | 115/513 [02:08<07:02,  1.06s/it]"
     ]
    },
    {
     "name": "stdout",
     "output_type": "stream",
     "text": [
      "Buscando dados para o deputado Daniel Trzeciak (ID 204409)...\n"
     ]
    },
    {
     "name": "stderr",
     "output_type": "stream",
     "text": [
      "Processando deputados:  23%|████████████▉                                            | 116/513 [02:09<06:57,  1.05s/it]"
     ]
    },
    {
     "name": "stdout",
     "output_type": "stream",
     "text": [
      "Buscando dados para o deputado Daniela do Waguinho (ID 204459)...\n"
     ]
    },
    {
     "name": "stderr",
     "output_type": "stream",
     "text": [
      "Processando deputados:  23%|█████████████                                            | 117/513 [02:10<06:57,  1.06s/it]"
     ]
    },
    {
     "name": "stdout",
     "output_type": "stream",
     "text": [
      "Buscando dados para o deputado Daniela Reinehr (ID 220557)...\n"
     ]
    },
    {
     "name": "stderr",
     "output_type": "stream",
     "text": [
      "Processando deputados:  23%|█████████████                                            | 118/513 [02:11<06:44,  1.03s/it]"
     ]
    },
    {
     "name": "stdout",
     "output_type": "stream",
     "text": [
      "Buscando dados para o deputado Danilo Forte (ID 62881)...\n"
     ]
    },
    {
     "name": "stderr",
     "output_type": "stream",
     "text": [
      "Processando deputados:  23%|█████████████▏                                           | 119/513 [02:12<06:44,  1.03s/it]"
     ]
    },
    {
     "name": "stdout",
     "output_type": "stream",
     "text": [
      "Buscando dados para o deputado Danrlei de Deus Hinterholz (ID 160552)...\n"
     ]
    },
    {
     "name": "stderr",
     "output_type": "stream",
     "text": [
      "Processando deputados:  23%|█████████████▎                                           | 120/513 [02:13<07:00,  1.07s/it]"
     ]
    },
    {
     "name": "stdout",
     "output_type": "stream",
     "text": [
      "Buscando dados para o deputado David Soares (ID 204511)...\n"
     ]
    },
    {
     "name": "stderr",
     "output_type": "stream",
     "text": [
      "Processando deputados:  24%|█████████████▍                                           | 121/513 [02:15<07:14,  1.11s/it]"
     ]
    },
    {
     "name": "stdout",
     "output_type": "stream",
     "text": [
      "Buscando dados para o deputado Dayany Bittencourt (ID 220659)...\n"
     ]
    },
    {
     "name": "stderr",
     "output_type": "stream",
     "text": [
      "Processando deputados:  24%|█████████████▌                                           | 122/513 [02:16<07:02,  1.08s/it]"
     ]
    },
    {
     "name": "stdout",
     "output_type": "stream",
     "text": [
      "Buscando dados para o deputado Defensor Stélio Dener (ID 220539)...\n"
     ]
    },
    {
     "name": "stderr",
     "output_type": "stream",
     "text": [
      "Processando deputados:  24%|█████████████▋                                           | 123/513 [02:17<06:54,  1.06s/it]"
     ]
    },
    {
     "name": "stdout",
     "output_type": "stream",
     "text": [
      "Buscando dados para o deputado Delegada Adriana Accorsi (ID 220565)...\n"
     ]
    },
    {
     "name": "stderr",
     "output_type": "stream",
     "text": [
      "Processando deputados:  24%|█████████████▊                                           | 124/513 [02:18<06:43,  1.04s/it]"
     ]
    },
    {
     "name": "stdout",
     "output_type": "stream",
     "text": [
      "Buscando dados para o deputado Delegada Ione (ID 220625)...\n"
     ]
    },
    {
     "name": "stderr",
     "output_type": "stream",
     "text": [
      "Processando deputados:  24%|█████████████▉                                           | 125/513 [02:19<06:46,  1.05s/it]"
     ]
    },
    {
     "name": "stdout",
     "output_type": "stream",
     "text": [
      "Buscando dados para o deputado Delegada Katarina (ID 220561)...\n"
     ]
    },
    {
     "name": "stderr",
     "output_type": "stream",
     "text": [
      "Processando deputados:  25%|██████████████                                           | 126/513 [02:20<06:34,  1.02s/it]"
     ]
    },
    {
     "name": "stdout",
     "output_type": "stream",
     "text": [
      "Buscando dados para o deputado Delegado Bruno Lima (ID 220642)...\n"
     ]
    },
    {
     "name": "stderr",
     "output_type": "stream",
     "text": [
      "Processando deputados:  25%|██████████████                                           | 127/513 [02:21<06:28,  1.01s/it]"
     ]
    },
    {
     "name": "stdout",
     "output_type": "stream",
     "text": [
      "Buscando dados para o deputado Delegado Caveira (ID 220673)...\n"
     ]
    },
    {
     "name": "stderr",
     "output_type": "stream",
     "text": [
      "Processando deputados:  25%|██████████████▏                                          | 128/513 [02:21<06:23,  1.00it/s]"
     ]
    },
    {
     "name": "stdout",
     "output_type": "stream",
     "text": [
      "Buscando dados para o deputado Delegado da Cunha (ID 220649)...\n"
     ]
    },
    {
     "name": "stderr",
     "output_type": "stream",
     "text": [
      "Processando deputados:  25%|██████████████▎                                          | 129/513 [02:22<06:17,  1.02it/s]"
     ]
    },
    {
     "name": "stdout",
     "output_type": "stream",
     "text": [
      "Buscando dados para o deputado Delegado Éder Mauro (ID 178908)...\n"
     ]
    },
    {
     "name": "stderr",
     "output_type": "stream",
     "text": [
      "Processando deputados:  25%|██████████████▍                                          | 130/513 [02:23<06:13,  1.03it/s]"
     ]
    },
    {
     "name": "stdout",
     "output_type": "stream",
     "text": [
      "Buscando dados para o deputado Delegado Fabio Costa (ID 220583)...\n"
     ]
    },
    {
     "name": "stderr",
     "output_type": "stream",
     "text": [
      "Processando deputados:  26%|██████████████▌                                          | 131/513 [02:24<06:21,  1.00it/s]"
     ]
    },
    {
     "name": "stdout",
     "output_type": "stream",
     "text": [
      "Buscando dados para o deputado Delegado Marcelo Freitas (ID 204512)...\n"
     ]
    },
    {
     "name": "stderr",
     "output_type": "stream",
     "text": [
      "Processando deputados:  26%|██████████████▋                                          | 132/513 [02:26<06:31,  1.03s/it]"
     ]
    },
    {
     "name": "stdout",
     "output_type": "stream",
     "text": [
      "Buscando dados para o deputado Delegado Matheus Laiola (ID 220701)...\n"
     ]
    },
    {
     "name": "stderr",
     "output_type": "stream",
     "text": [
      "Processando deputados:  26%|██████████████▊                                          | 133/513 [02:27<06:34,  1.04s/it]"
     ]
    },
    {
     "name": "stdout",
     "output_type": "stream",
     "text": [
      "Buscando dados para o deputado Delegado Palumbo (ID 220652)...\n"
     ]
    },
    {
     "name": "stderr",
     "output_type": "stream",
     "text": [
      "Processando deputados:  26%|██████████████▉                                          | 134/513 [02:28<06:29,  1.03s/it]"
     ]
    },
    {
     "name": "stdout",
     "output_type": "stream",
     "text": [
      "Buscando dados para o deputado Delegado Paulo Bilynskyj (ID 220654)...\n"
     ]
    },
    {
     "name": "stderr",
     "output_type": "stream",
     "text": [
      "Processando deputados:  26%|███████████████                                          | 135/513 [02:29<06:31,  1.04s/it]"
     ]
    },
    {
     "name": "stdout",
     "output_type": "stream",
     "text": [
      "Buscando dados para o deputado Delegado Ramagem (ID 220619)...\n"
     ]
    },
    {
     "name": "stderr",
     "output_type": "stream",
     "text": [
      "Processando deputados:  27%|███████████████                                          | 136/513 [02:30<06:20,  1.01s/it]"
     ]
    },
    {
     "name": "stdout",
     "output_type": "stream",
     "text": [
      "Buscando dados para o deputado Denise Pessôa (ID 220553)...\n"
     ]
    },
    {
     "name": "stderr",
     "output_type": "stream",
     "text": [
      "Processando deputados:  27%|███████████████▏                                         | 137/513 [02:31<06:28,  1.03s/it]"
     ]
    },
    {
     "name": "stdout",
     "output_type": "stream",
     "text": [
      "Buscando dados para o deputado Detinha (ID 220689)...\n"
     ]
    },
    {
     "name": "stderr",
     "output_type": "stream",
     "text": [
      "Processando deputados:  27%|███████████████▎                                         | 138/513 [02:32<06:25,  1.03s/it]"
     ]
    },
    {
     "name": "stdout",
     "output_type": "stream",
     "text": [
      "Buscando dados para o deputado Diego Andrade (ID 160588)...\n"
     ]
    },
    {
     "name": "stderr",
     "output_type": "stream",
     "text": [
      "Processando deputados:  27%|███████████████▍                                         | 139/513 [02:33<06:32,  1.05s/it]"
     ]
    },
    {
     "name": "stdout",
     "output_type": "stream",
     "text": [
      "Buscando dados para o deputado Diego Coronel (ID 220691)...\n"
     ]
    },
    {
     "name": "stderr",
     "output_type": "stream",
     "text": [
      "Processando deputados:  27%|███████████████▌                                         | 140/513 [02:34<06:21,  1.02s/it]"
     ]
    },
    {
     "name": "stdout",
     "output_type": "stream",
     "text": [
      "Buscando dados para o deputado Diego Garcia (ID 178929)...\n"
     ]
    },
    {
     "name": "stderr",
     "output_type": "stream",
     "text": [
      "Processando deputados:  27%|███████████████▋                                         | 141/513 [02:35<06:18,  1.02s/it]"
     ]
    },
    {
     "name": "stdout",
     "output_type": "stream",
     "text": [
      "Buscando dados para o deputado Dilceu Sperafico (ID 73768)...\n"
     ]
    },
    {
     "name": "stderr",
     "output_type": "stream",
     "text": [
      "Processando deputados:  28%|███████████████▊                                         | 142/513 [02:36<06:19,  1.02s/it]"
     ]
    },
    {
     "name": "stdout",
     "output_type": "stream",
     "text": [
      "Buscando dados para o deputado Dilvanda Faro (ID 220671)...\n"
     ]
    },
    {
     "name": "stderr",
     "output_type": "stream",
     "text": [
      "Processando deputados:  28%|███████████████▉                                         | 143/513 [02:37<06:13,  1.01s/it]"
     ]
    },
    {
     "name": "stdout",
     "output_type": "stream",
     "text": [
      "Buscando dados para o deputado Dimas Fabiano (ID 160599)...\n"
     ]
    },
    {
     "name": "stderr",
     "output_type": "stream",
     "text": [
      "Processando deputados:  28%|████████████████                                         | 144/513 [02:38<06:39,  1.08s/it]"
     ]
    },
    {
     "name": "stdout",
     "output_type": "stream",
     "text": [
      "Buscando dados para o deputado Dimas Gadelha (ID 220602)...\n"
     ]
    },
    {
     "name": "stderr",
     "output_type": "stream",
     "text": [
      "Processando deputados:  28%|████████████████                                         | 145/513 [02:39<06:29,  1.06s/it]"
     ]
    },
    {
     "name": "stdout",
     "output_type": "stream",
     "text": [
      "Buscando dados para o deputado Domingos Neto (ID 143632)...\n"
     ]
    },
    {
     "name": "stderr",
     "output_type": "stream",
     "text": [
      "Processando deputados:  28%|████████████████▏                                        | 146/513 [02:40<06:29,  1.06s/it]"
     ]
    },
    {
     "name": "stdout",
     "output_type": "stream",
     "text": [
      "Buscando dados para o deputado Domingos Sávio (ID 160758)...\n"
     ]
    },
    {
     "name": "stderr",
     "output_type": "stream",
     "text": [
      "Processando deputados:  29%|████████████████▎                                        | 147/513 [02:41<06:39,  1.09s/it]"
     ]
    },
    {
     "name": "stdout",
     "output_type": "stream",
     "text": [
      "Buscando dados para o deputado Dorinaldo Malafaia (ID 220573)...\n"
     ]
    },
    {
     "name": "stderr",
     "output_type": "stream",
     "text": [
      "Processando deputados:  29%|████████████████▍                                        | 148/513 [02:42<06:35,  1.08s/it]"
     ]
    },
    {
     "name": "stdout",
     "output_type": "stream",
     "text": [
      "Buscando dados para o deputado Doutor Luizinho (ID 204450)...\n"
     ]
    },
    {
     "name": "stderr",
     "output_type": "stream",
     "text": [
      "Processando deputados:  29%|████████████████▌                                        | 149/513 [02:43<06:29,  1.07s/it]"
     ]
    },
    {
     "name": "stdout",
     "output_type": "stream",
     "text": [
      "Buscando dados para o deputado Dr. Daniel Soranz (ID 220614)...\n"
     ]
    },
    {
     "name": "stderr",
     "output_type": "stream",
     "text": [
      "Processando deputados:  29%|████████████████▋                                        | 150/513 [02:44<06:19,  1.04s/it]"
     ]
    },
    {
     "name": "stdout",
     "output_type": "stream",
     "text": [
      "Buscando dados para o deputado Dr. Fernando Máximo (ID 220610)...\n"
     ]
    },
    {
     "name": "stderr",
     "output_type": "stream",
     "text": [
      "Processando deputados:  29%|████████████████▊                                        | 151/513 [02:45<06:06,  1.01s/it]"
     ]
    },
    {
     "name": "stdout",
     "output_type": "stream",
     "text": [
      "Buscando dados para o deputado Dr. Francisco (ID 220688)...\n"
     ]
    },
    {
     "name": "stderr",
     "output_type": "stream",
     "text": [
      "Processando deputados:  30%|████████████████▉                                        | 152/513 [02:46<06:07,  1.02s/it]"
     ]
    },
    {
     "name": "stdout",
     "output_type": "stream",
     "text": [
      "Buscando dados para o deputado Dr. Frederico (ID 204518)...\n"
     ]
    },
    {
     "name": "stderr",
     "output_type": "stream",
     "text": [
      "Processando deputados:  30%|█████████████████                                        | 153/513 [02:47<06:02,  1.01s/it]"
     ]
    },
    {
     "name": "stdout",
     "output_type": "stream",
     "text": [
      "Buscando dados para o deputado Dr. Ismael Alexandrino (ID 220570)...\n"
     ]
    },
    {
     "name": "stderr",
     "output_type": "stream",
     "text": [
      "Processando deputados:  30%|█████████████████                                        | 154/513 [02:48<05:56,  1.01it/s]"
     ]
    },
    {
     "name": "stdout",
     "output_type": "stream",
     "text": [
      "Buscando dados para o deputado Dr. Jaziel (ID 204481)...\n"
     ]
    },
    {
     "name": "stderr",
     "output_type": "stream",
     "text": [
      "Processando deputados:  30%|█████████████████▏                                       | 155/513 [02:49<05:57,  1.00it/s]"
     ]
    },
    {
     "name": "stdout",
     "output_type": "stream",
     "text": [
      "Buscando dados para o deputado Dr. Luiz Ovando (ID 204351)...\n"
     ]
    },
    {
     "name": "stderr",
     "output_type": "stream",
     "text": [
      "Processando deputados:  30%|█████████████████▎                                       | 156/513 [02:50<06:08,  1.03s/it]"
     ]
    },
    {
     "name": "stdout",
     "output_type": "stream",
     "text": [
      "Buscando dados para o deputado Dr. Victor Linhalis (ID 220528)...\n"
     ]
    },
    {
     "name": "stderr",
     "output_type": "stream",
     "text": [
      "Processando deputados:  31%|█████████████████▍                                       | 157/513 [02:51<06:01,  1.01s/it]"
     ]
    },
    {
     "name": "stdout",
     "output_type": "stream",
     "text": [
      "Buscando dados para o deputado Dr. Zacharias Calil (ID 204412)...\n"
     ]
    },
    {
     "name": "stderr",
     "output_type": "stream",
     "text": [
      "Processando deputados:  31%|█████████████████▌                                       | 158/513 [02:52<05:54,  1.00it/s]"
     ]
    },
    {
     "name": "stdout",
     "output_type": "stream",
     "text": [
      "Buscando dados para o deputado Dra. Alessandra Haber (ID 220674)...\n"
     ]
    },
    {
     "name": "stderr",
     "output_type": "stream",
     "text": [
      "Processando deputados:  31%|█████████████████▋                                       | 159/513 [02:53<06:00,  1.02s/it]"
     ]
    },
    {
     "name": "stdout",
     "output_type": "stream",
     "text": [
      "Buscando dados para o deputado Duarte Jr. (ID 220686)...\n"
     ]
    },
    {
     "name": "stderr",
     "output_type": "stream",
     "text": [
      "Processando deputados:  31%|█████████████████▊                                       | 160/513 [02:54<06:04,  1.03s/it]"
     ]
    },
    {
     "name": "stdout",
     "output_type": "stream",
     "text": [
      "Buscando dados para o deputado Duda Ramos (ID 220540)...\n"
     ]
    },
    {
     "name": "stderr",
     "output_type": "stream",
     "text": [
      "Processando deputados:  31%|█████████████████▉                                       | 161/513 [02:56<06:03,  1.03s/it]"
     ]
    },
    {
     "name": "stdout",
     "output_type": "stream",
     "text": [
      "Buscando dados para o deputado Duda Salabert (ID 220623)...\n"
     ]
    },
    {
     "name": "stderr",
     "output_type": "stream",
     "text": [
      "Processando deputados:  32%|██████████████████                                       | 162/513 [02:56<05:56,  1.02s/it]"
     ]
    },
    {
     "name": "stdout",
     "output_type": "stream",
     "text": [
      "Buscando dados para o deputado Eduardo Bolsonaro (ID 92346)...\n"
     ]
    },
    {
     "name": "stderr",
     "output_type": "stream",
     "text": [
      "Processando deputados:  32%|██████████████████                                       | 163/513 [02:57<05:51,  1.01s/it]"
     ]
    },
    {
     "name": "stdout",
     "output_type": "stream",
     "text": [
      "Buscando dados para o deputado Eduardo da Fonte (ID 141421)...\n"
     ]
    },
    {
     "name": "stderr",
     "output_type": "stream",
     "text": [
      "Processando deputados:  32%|██████████████████▏                                      | 164/513 [02:58<05:48,  1.00it/s]"
     ]
    },
    {
     "name": "stdout",
     "output_type": "stream",
     "text": [
      "Buscando dados para o deputado Eduardo Velloso (ID 220589)...\n"
     ]
    },
    {
     "name": "stderr",
     "output_type": "stream",
     "text": [
      "Processando deputados:  32%|██████████████████▎                                      | 165/513 [03:00<05:54,  1.02s/it]"
     ]
    },
    {
     "name": "stdout",
     "output_type": "stream",
     "text": [
      "Buscando dados para o deputado Elcione Barbalho (ID 74075)...\n"
     ]
    },
    {
     "name": "stderr",
     "output_type": "stream",
     "text": [
      "Processando deputados:  32%|██████████████████▍                                      | 166/513 [03:01<06:11,  1.07s/it]"
     ]
    },
    {
     "name": "stdout",
     "output_type": "stream",
     "text": [
      "Buscando dados para o deputado Eli Borges (ID 204364)...\n"
     ]
    },
    {
     "name": "stderr",
     "output_type": "stream",
     "text": [
      "Processando deputados:  33%|██████████████████▌                                      | 167/513 [03:02<06:03,  1.05s/it]"
     ]
    },
    {
     "name": "stdout",
     "output_type": "stream",
     "text": [
      "Buscando dados para o deputado Elmar Nascimento (ID 178854)...\n"
     ]
    },
    {
     "name": "stderr",
     "output_type": "stream",
     "text": [
      "Processando deputados:  33%|██████████████████▋                                      | 168/513 [03:03<05:51,  1.02s/it]"
     ]
    },
    {
     "name": "stdout",
     "output_type": "stream",
     "text": [
      "Buscando dados para o deputado Ely Santos (ID 218086)...\n"
     ]
    },
    {
     "name": "stderr",
     "output_type": "stream",
     "text": [
      "Processando deputados:  33%|██████████████████▊                                      | 169/513 [03:04<05:53,  1.03s/it]"
     ]
    },
    {
     "name": "stdout",
     "output_type": "stream",
     "text": [
      "Buscando dados para o deputado Emanuel Pinheiro Neto (ID 198783)...\n"
     ]
    },
    {
     "name": "stderr",
     "output_type": "stream",
     "text": [
      "Processando deputados:  33%|██████████████████▉                                      | 170/513 [03:05<05:57,  1.04s/it]"
     ]
    },
    {
     "name": "stdout",
     "output_type": "stream",
     "text": [
      "Buscando dados para o deputado Emidinho Madeira (ID 161550)...\n"
     ]
    },
    {
     "name": "stderr",
     "output_type": "stream",
     "text": [
      "Processando deputados:  33%|███████████████████                                      | 171/513 [03:06<05:56,  1.04s/it]"
     ]
    },
    {
     "name": "stdout",
     "output_type": "stream",
     "text": [
      "Buscando dados para o deputado Enfermeira Ana Paula (ID 225730)...\n"
     ]
    },
    {
     "name": "stderr",
     "output_type": "stream",
     "text": [
      "Processando deputados:  34%|███████████████████                                      | 172/513 [03:07<05:51,  1.03s/it]"
     ]
    },
    {
     "name": "stdout",
     "output_type": "stream",
     "text": [
      "Buscando dados para o deputado Enfermeira Rejane (ID 230765)...\n"
     ]
    },
    {
     "name": "stderr",
     "output_type": "stream",
     "text": [
      "Processando deputados:  34%|███████████████████▏                                     | 173/513 [03:08<05:51,  1.04s/it]"
     ]
    },
    {
     "name": "stdout",
     "output_type": "stream",
     "text": [
      "Buscando dados para o deputado Eriberto Medeiros (ID 220663)...\n"
     ]
    },
    {
     "name": "stderr",
     "output_type": "stream",
     "text": [
      "Processando deputados:  34%|███████████████████▎                                     | 174/513 [03:09<05:44,  1.02s/it]"
     ]
    },
    {
     "name": "stdout",
     "output_type": "stream",
     "text": [
      "Buscando dados para o deputado Erika Hilton (ID 220645)...\n"
     ]
    },
    {
     "name": "stderr",
     "output_type": "stream",
     "text": [
      "Processando deputados:  34%|███████████████████▍                                     | 175/513 [03:10<05:49,  1.03s/it]"
     ]
    },
    {
     "name": "stdout",
     "output_type": "stream",
     "text": [
      "Buscando dados para o deputado Erika Kokay (ID 160575)...\n"
     ]
    },
    {
     "name": "stderr",
     "output_type": "stream",
     "text": [
      "Processando deputados:  34%|███████████████████▌                                     | 176/513 [03:11<05:47,  1.03s/it]"
     ]
    },
    {
     "name": "stdout",
     "output_type": "stream",
     "text": [
      "Buscando dados para o deputado Eros Biondini (ID 160640)...\n"
     ]
    },
    {
     "name": "stderr",
     "output_type": "stream",
     "text": [
      "Processando deputados:  35%|███████████████████▋                                     | 177/513 [03:12<05:44,  1.03s/it]"
     ]
    },
    {
     "name": "stdout",
     "output_type": "stream",
     "text": [
      "Buscando dados para o deputado Euclydes Pettersen (ID 204482)...\n"
     ]
    },
    {
     "name": "stderr",
     "output_type": "stream",
     "text": [
      "Processando deputados:  35%|███████████████████▊                                     | 178/513 [03:13<05:49,  1.04s/it]"
     ]
    },
    {
     "name": "stdout",
     "output_type": "stream",
     "text": [
      "Buscando dados para o deputado Eunício Oliveira (ID 74454)...\n"
     ]
    },
    {
     "name": "stderr",
     "output_type": "stream",
     "text": [
      "Processando deputados:  35%|███████████████████▉                                     | 179/513 [03:14<05:51,  1.05s/it]"
     ]
    },
    {
     "name": "stdout",
     "output_type": "stream",
     "text": [
      "Buscando dados para o deputado Evair Vieira de Melo (ID 178871)...\n"
     ]
    },
    {
     "name": "stderr",
     "output_type": "stream",
     "text": [
      "Processando deputados:  35%|████████████████████                                     | 180/513 [03:15<05:51,  1.05s/it]"
     ]
    },
    {
     "name": "stdout",
     "output_type": "stream",
     "text": [
      "Buscando dados para o deputado Fábio Macedo (ID 220681)...\n"
     ]
    },
    {
     "name": "stderr",
     "output_type": "stream",
     "text": [
      "Processando deputados:  35%|████████████████████                                     | 181/513 [03:16<05:46,  1.04s/it]"
     ]
    },
    {
     "name": "stdout",
     "output_type": "stream",
     "text": [
      "Buscando dados para o deputado Fabio Schiochet (ID 204368)...\n"
     ]
    },
    {
     "name": "stderr",
     "output_type": "stream",
     "text": [
      "Processando deputados:  35%|████████████████████▏                                    | 182/513 [03:17<05:46,  1.05s/it]"
     ]
    },
    {
     "name": "stdout",
     "output_type": "stream",
     "text": [
      "Buscando dados para o deputado Fábio Teruel (ID 220653)...\n"
     ]
    },
    {
     "name": "stderr",
     "output_type": "stream",
     "text": [
      "Processando deputados:  36%|████████████████████▎                                    | 183/513 [03:18<05:47,  1.05s/it]"
     ]
    },
    {
     "name": "stdout",
     "output_type": "stream",
     "text": [
      "Buscando dados para o deputado Fausto Pinato (ID 66828)...\n"
     ]
    },
    {
     "name": "stderr",
     "output_type": "stream",
     "text": [
      "Processando deputados:  36%|████████████████████▍                                    | 184/513 [03:19<05:50,  1.07s/it]"
     ]
    },
    {
     "name": "stdout",
     "output_type": "stream",
     "text": [
      "Buscando dados para o deputado Fausto Santos Jr. (ID 220712)...\n"
     ]
    },
    {
     "name": "stderr",
     "output_type": "stream",
     "text": [
      "Processando deputados:  36%|████████████████████▌                                    | 185/513 [03:20<05:46,  1.06s/it]"
     ]
    },
    {
     "name": "stdout",
     "output_type": "stream",
     "text": [
      "Buscando dados para o deputado Felipe Becari (ID 220646)...\n"
     ]
    },
    {
     "name": "stderr",
     "output_type": "stream",
     "text": [
      "Processando deputados:  36%|████████████████████▋                                    | 186/513 [03:21<05:37,  1.03s/it]"
     ]
    },
    {
     "name": "stdout",
     "output_type": "stream",
     "text": [
      "Buscando dados para o deputado Felipe Carreras (ID 72442)...\n"
     ]
    },
    {
     "name": "stderr",
     "output_type": "stream",
     "text": [
      "Processando deputados:  36%|████████████████████▊                                    | 187/513 [03:22<05:36,  1.03s/it]"
     ]
    },
    {
     "name": "stdout",
     "output_type": "stream",
     "text": [
      "Buscando dados para o deputado Felipe Francischini (ID 204398)...\n"
     ]
    },
    {
     "name": "stderr",
     "output_type": "stream",
     "text": [
      "Processando deputados:  37%|████████████████████▉                                    | 188/513 [03:24<05:37,  1.04s/it]"
     ]
    },
    {
     "name": "stdout",
     "output_type": "stream",
     "text": [
      "Buscando dados para o deputado Félix Mendonça Júnior (ID 160666)...\n"
     ]
    },
    {
     "name": "stderr",
     "output_type": "stream",
     "text": [
      "Processando deputados:  37%|█████████████████████                                    | 189/513 [03:25<05:42,  1.06s/it]"
     ]
    },
    {
     "name": "stdout",
     "output_type": "stream",
     "text": [
      "Buscando dados para o deputado Fernanda Melchionna (ID 204407)...\n"
     ]
    },
    {
     "name": "stderr",
     "output_type": "stream",
     "text": [
      "Processando deputados:  37%|█████████████████████                                    | 190/513 [03:26<05:43,  1.06s/it]"
     ]
    },
    {
     "name": "stdout",
     "output_type": "stream",
     "text": [
      "Buscando dados para o deputado Fernanda Pessoa (ID 220656)...\n"
     ]
    },
    {
     "name": "stderr",
     "output_type": "stream",
     "text": [
      "Processando deputados:  37%|█████████████████████▏                                   | 191/513 [03:27<05:39,  1.06s/it]"
     ]
    },
    {
     "name": "stdout",
     "output_type": "stream",
     "text": [
      "Buscando dados para o deputado Fernando Coelho Filho (ID 141431)...\n"
     ]
    },
    {
     "name": "stderr",
     "output_type": "stream",
     "text": [
      "Processando deputados:  37%|█████████████████████▎                                   | 192/513 [03:28<05:51,  1.10s/it]"
     ]
    },
    {
     "name": "stdout",
     "output_type": "stream",
     "text": [
      "Buscando dados para o deputado Fernando Mineiro (ID 204445)...\n"
     ]
    },
    {
     "name": "stderr",
     "output_type": "stream",
     "text": [
      "Processando deputados:  38%|█████████████████████▍                                   | 193/513 [03:29<05:41,  1.07s/it]"
     ]
    },
    {
     "name": "stdout",
     "output_type": "stream",
     "text": [
      "Buscando dados para o deputado Fernando Monteiro (ID 92699)...\n"
     ]
    },
    {
     "name": "stderr",
     "output_type": "stream",
     "text": [
      "Processando deputados:  38%|█████████████████████▌                                   | 194/513 [03:30<05:57,  1.12s/it]"
     ]
    },
    {
     "name": "stdout",
     "output_type": "stream",
     "text": [
      "Buscando dados para o deputado Fernando Rodolfo (ID 204427)...\n"
     ]
    },
    {
     "name": "stderr",
     "output_type": "stream",
     "text": [
      "Processando deputados:  38%|█████████████████████▋                                   | 195/513 [03:31<05:49,  1.10s/it]"
     ]
    },
    {
     "name": "stdout",
     "output_type": "stream",
     "text": [
      "Buscando dados para o deputado Filipe Barros (ID 204411)...\n"
     ]
    },
    {
     "name": "stderr",
     "output_type": "stream",
     "text": [
      "Processando deputados:  38%|█████████████████████▊                                   | 196/513 [03:32<05:31,  1.05s/it]"
     ]
    },
    {
     "name": "stdout",
     "output_type": "stream",
     "text": [
      "Buscando dados para o deputado Filipe Martins (ID 220545)...\n"
     ]
    },
    {
     "name": "stderr",
     "output_type": "stream",
     "text": [
      "Processando deputados:  38%|█████████████████████▉                                   | 197/513 [03:33<05:32,  1.05s/it]"
     ]
    },
    {
     "name": "stdout",
     "output_type": "stream",
     "text": [
      "Buscando dados para o deputado Flávia Morais (ID 160598)...\n"
     ]
    },
    {
     "name": "stderr",
     "output_type": "stream",
     "text": [
      "Processando deputados:  39%|██████████████████████                                   | 198/513 [03:34<05:33,  1.06s/it]"
     ]
    },
    {
     "name": "stdout",
     "output_type": "stream",
     "text": [
      "Buscando dados para o deputado Flávio Nogueira (ID 191923)...\n"
     ]
    },
    {
     "name": "stderr",
     "output_type": "stream",
     "text": [
      "Processando deputados:  39%|██████████████████████                                   | 199/513 [03:35<05:28,  1.05s/it]"
     ]
    },
    {
     "name": "stdout",
     "output_type": "stream",
     "text": [
      "Buscando dados para o deputado Florentino Neto (ID 220700)...\n"
     ]
    },
    {
     "name": "stderr",
     "output_type": "stream",
     "text": [
      "Processando deputados:  39%|██████████████████████▏                                  | 200/513 [03:36<05:18,  1.02s/it]"
     ]
    },
    {
     "name": "stdout",
     "output_type": "stream",
     "text": [
      "Buscando dados para o deputado Franciane Bayer (ID 220551)...\n"
     ]
    },
    {
     "name": "stderr",
     "output_type": "stream",
     "text": [
      "Processando deputados:  39%|██████████████████████▎                                  | 201/513 [03:37<05:20,  1.03s/it]"
     ]
    },
    {
     "name": "stdout",
     "output_type": "stream",
     "text": [
      "Buscando dados para o deputado Fred Costa (ID 204494)...\n"
     ]
    },
    {
     "name": "stderr",
     "output_type": "stream",
     "text": [
      "Processando deputados:  39%|██████████████████████▍                                  | 202/513 [03:38<05:24,  1.04s/it]"
     ]
    },
    {
     "name": "stdout",
     "output_type": "stream",
     "text": [
      "Buscando dados para o deputado Fred Linhares (ID 220534)...\n"
     ]
    },
    {
     "name": "stderr",
     "output_type": "stream",
     "text": [
      "Processando deputados:  40%|██████████████████████▌                                  | 203/513 [03:39<05:14,  1.01s/it]"
     ]
    },
    {
     "name": "stdout",
     "output_type": "stream",
     "text": [
      "Buscando dados para o deputado Gabriel Mota (ID 224117)...\n"
     ]
    },
    {
     "name": "stderr",
     "output_type": "stream",
     "text": [
      "Processando deputados:  40%|██████████████████████▋                                  | 204/513 [03:40<05:15,  1.02s/it]"
     ]
    },
    {
     "name": "stdout",
     "output_type": "stream",
     "text": [
      "Buscando dados para o deputado Gabriel Nunes (ID 220708)...\n"
     ]
    },
    {
     "name": "stderr",
     "output_type": "stream",
     "text": [
      "Processando deputados:  40%|██████████████████████▊                                  | 205/513 [03:41<05:14,  1.02s/it]"
     ]
    },
    {
     "name": "stdout",
     "output_type": "stream",
     "text": [
      "Buscando dados para o deputado General Girão (ID 204473)...\n"
     ]
    },
    {
     "name": "stderr",
     "output_type": "stream",
     "text": [
      "Processando deputados:  40%|██████████████████████▉                                  | 206/513 [03:42<05:09,  1.01s/it]"
     ]
    },
    {
     "name": "stdout",
     "output_type": "stream",
     "text": [
      "Buscando dados para o deputado General Pazuello (ID 220611)...\n"
     ]
    },
    {
     "name": "stderr",
     "output_type": "stream",
     "text": [
      "Processando deputados:  40%|███████████████████████                                  | 207/513 [03:43<05:06,  1.00s/it]"
     ]
    },
    {
     "name": "stdout",
     "output_type": "stream",
     "text": [
      "Buscando dados para o deputado Geovania de Sá (ID 178966)...\n"
     ]
    },
    {
     "name": "stderr",
     "output_type": "stream",
     "text": [
      "Processando deputados:  41%|███████████████████████                                  | 208/513 [03:44<05:00,  1.01it/s]"
     ]
    },
    {
     "name": "stdout",
     "output_type": "stream",
     "text": [
      "Buscando dados para o deputado Geraldo Mendes (ID 220702)...\n"
     ]
    },
    {
     "name": "stderr",
     "output_type": "stream",
     "text": [
      "Processando deputados:  41%|███████████████████████▏                                 | 209/513 [03:45<05:04,  1.00s/it]"
     ]
    },
    {
     "name": "stdout",
     "output_type": "stream",
     "text": [
      "Buscando dados para o deputado Geraldo Resende (ID 74374)...\n"
     ]
    },
    {
     "name": "stderr",
     "output_type": "stream",
     "text": [
      "Processando deputados:  41%|███████████████████████▎                                 | 210/513 [03:46<04:59,  1.01it/s]"
     ]
    },
    {
     "name": "stdout",
     "output_type": "stream",
     "text": [
      "Buscando dados para o deputado Gervásio Maia (ID 204394)...\n"
     ]
    },
    {
     "name": "stderr",
     "output_type": "stream",
     "text": [
      "Processando deputados:  41%|███████████████████████▍                                 | 211/513 [03:47<05:01,  1.00it/s]"
     ]
    },
    {
     "name": "stdout",
     "output_type": "stream",
     "text": [
      "Buscando dados para o deputado Giacobo (ID 74383)...\n"
     ]
    },
    {
     "name": "stderr",
     "output_type": "stream",
     "text": [
      "Processando deputados:  41%|███████████████████████▌                                 | 212/513 [03:48<05:07,  1.02s/it]"
     ]
    },
    {
     "name": "stdout",
     "output_type": "stream",
     "text": [
      "Buscando dados para o deputado Gilberto Abramo (ID 204491)...\n"
     ]
    },
    {
     "name": "stderr",
     "output_type": "stream",
     "text": [
      "Processando deputados:  42%|███████████████████████▋                                 | 213/513 [03:49<05:07,  1.03s/it]"
     ]
    },
    {
     "name": "stdout",
     "output_type": "stream",
     "text": [
      "Buscando dados para o deputado Gilberto Nascimento (ID 74270)...\n"
     ]
    },
    {
     "name": "stderr",
     "output_type": "stream",
     "text": [
      "Processando deputados:  42%|███████████████████████▊                                 | 214/513 [03:50<05:08,  1.03s/it]"
     ]
    },
    {
     "name": "stdout",
     "output_type": "stream",
     "text": [
      "Buscando dados para o deputado Gilson Daniel (ID 220529)...\n"
     ]
    },
    {
     "name": "stderr",
     "output_type": "stream",
     "text": [
      "Processando deputados:  42%|███████████████████████▉                                 | 215/513 [03:51<05:04,  1.02s/it]"
     ]
    },
    {
     "name": "stdout",
     "output_type": "stream",
     "text": [
      "Buscando dados para o deputado Gilson Marques (ID 204365)...\n"
     ]
    },
    {
     "name": "stderr",
     "output_type": "stream",
     "text": [
      "Processando deputados:  42%|████████████████████████                                 | 216/513 [03:52<05:00,  1.01s/it]"
     ]
    },
    {
     "name": "stdout",
     "output_type": "stream",
     "text": [
      "Buscando dados para o deputado Gilvan da Federal (ID 220526)...\n"
     ]
    },
    {
     "name": "stderr",
     "output_type": "stream",
     "text": [
      "Processando deputados:  42%|████████████████████████                                 | 217/513 [03:53<05:00,  1.01s/it]"
     ]
    },
    {
     "name": "stdout",
     "output_type": "stream",
     "text": [
      "Buscando dados para o deputado Gilvan Maximo (ID 220531)...\n"
     ]
    },
    {
     "name": "stderr",
     "output_type": "stream",
     "text": [
      "Processando deputados:  42%|████████████████████████▏                                | 218/513 [03:54<04:59,  1.01s/it]"
     ]
    },
    {
     "name": "stdout",
     "output_type": "stream",
     "text": [
      "Buscando dados para o deputado Giovani Cherini (ID 160673)...\n"
     ]
    },
    {
     "name": "stderr",
     "output_type": "stream",
     "text": [
      "Processando deputados:  43%|████████████████████████▎                                | 219/513 [03:56<05:18,  1.08s/it]"
     ]
    },
    {
     "name": "stdout",
     "output_type": "stream",
     "text": [
      "Buscando dados para o deputado Gisela Simona (ID 226179)...\n"
     ]
    },
    {
     "name": "stderr",
     "output_type": "stream",
     "text": [
      "Processando deputados:  43%|████████████████████████▍                                | 220/513 [03:57<05:05,  1.04s/it]"
     ]
    },
    {
     "name": "stdout",
     "output_type": "stream",
     "text": [
      "Buscando dados para o deputado Glauber Braga (ID 152605)...\n"
     ]
    },
    {
     "name": "stderr",
     "output_type": "stream",
     "text": [
      "Processando deputados:  43%|████████████████████████▌                                | 221/513 [03:58<05:13,  1.07s/it]"
     ]
    },
    {
     "name": "stdout",
     "output_type": "stream",
     "text": [
      "Buscando dados para o deputado Glaustin da Fokus (ID 204419)...\n"
     ]
    },
    {
     "name": "stderr",
     "output_type": "stream",
     "text": [
      "Processando deputados:  43%|████████████████████████▋                                | 222/513 [03:59<05:06,  1.05s/it]"
     ]
    },
    {
     "name": "stdout",
     "output_type": "stream",
     "text": [
      "Buscando dados para o deputado Gleisi Hoffmann (ID 107283)...\n"
     ]
    },
    {
     "name": "stderr",
     "output_type": "stream",
     "text": [
      "Processando deputados:  43%|████████████████████████▊                                | 223/513 [04:00<05:09,  1.07s/it]"
     ]
    },
    {
     "name": "stdout",
     "output_type": "stream",
     "text": [
      "Buscando dados para o deputado Greyce Elias (ID 198197)...\n"
     ]
    },
    {
     "name": "stderr",
     "output_type": "stream",
     "text": [
      "Processando deputados:  44%|████████████████████████▉                                | 224/513 [04:01<05:00,  1.04s/it]"
     ]
    },
    {
     "name": "stdout",
     "output_type": "stream",
     "text": [
      "Buscando dados para o deputado Guilherme Boulos (ID 220639)...\n"
     ]
    },
    {
     "name": "stderr",
     "output_type": "stream",
     "text": [
      "Processando deputados:  44%|█████████████████████████                                | 225/513 [04:02<04:57,  1.03s/it]"
     ]
    },
    {
     "name": "stdout",
     "output_type": "stream",
     "text": [
      "Buscando dados para o deputado Guilherme Uchoa (ID 220664)...\n"
     ]
    },
    {
     "name": "stderr",
     "output_type": "stream",
     "text": [
      "Processando deputados:  44%|█████████████████████████                                | 226/513 [04:03<04:53,  1.02s/it]"
     ]
    },
    {
     "name": "stdout",
     "output_type": "stream",
     "text": [
      "Buscando dados para o deputado Gustavo Gayer (ID 220568)...\n"
     ]
    },
    {
     "name": "stderr",
     "output_type": "stream",
     "text": [
      "Processando deputados:  44%|█████████████████████████▏                               | 227/513 [04:04<04:48,  1.01s/it]"
     ]
    },
    {
     "name": "stdout",
     "output_type": "stream",
     "text": [
      "Buscando dados para o deputado Gustinho Ribeiro (ID 204408)...\n"
     ]
    },
    {
     "name": "stderr",
     "output_type": "stream",
     "text": [
      "Processando deputados:  44%|█████████████████████████▎                               | 228/513 [04:05<04:44,  1.00it/s]"
     ]
    },
    {
     "name": "stdout",
     "output_type": "stream",
     "text": [
      "Buscando dados para o deputado Gutemberg Reis (ID 204456)...\n"
     ]
    },
    {
     "name": "stderr",
     "output_type": "stream",
     "text": [
      "Processando deputados:  45%|█████████████████████████▍                               | 229/513 [04:06<04:45,  1.01s/it]"
     ]
    },
    {
     "name": "stdout",
     "output_type": "stream",
     "text": [
      "Buscando dados para o deputado Heitor Schuch (ID 178964)...\n"
     ]
    },
    {
     "name": "stderr",
     "output_type": "stream",
     "text": [
      "Processando deputados:  45%|█████████████████████████▌                               | 230/513 [04:07<04:38,  1.01it/s]"
     ]
    },
    {
     "name": "stdout",
     "output_type": "stream",
     "text": [
      "Buscando dados para o deputado Helder Salomão (ID 178873)...\n"
     ]
    },
    {
     "name": "stderr",
     "output_type": "stream",
     "text": [
      "Processando deputados:  45%|█████████████████████████▋                               | 231/513 [04:08<04:51,  1.03s/it]"
     ]
    },
    {
     "name": "stdout",
     "output_type": "stream",
     "text": [
      "Buscando dados para o deputado Helena Lima (ID 220537)...\n"
     ]
    },
    {
     "name": "stderr",
     "output_type": "stream",
     "text": [
      "Processando deputados:  45%|█████████████████████████▊                               | 232/513 [04:09<04:48,  1.03s/it]"
     ]
    },
    {
     "name": "stdout",
     "output_type": "stream",
     "text": [
      "Buscando dados para o deputado Helio Lopes (ID 204444)...\n"
     ]
    },
    {
     "name": "stderr",
     "output_type": "stream",
     "text": [
      "Processando deputados:  45%|█████████████████████████▉                               | 233/513 [04:10<04:45,  1.02s/it]"
     ]
    },
    {
     "name": "stdout",
     "output_type": "stream",
     "text": [
      "Buscando dados para o deputado Henderson Pinto (ID 220672)...\n"
     ]
    },
    {
     "name": "stderr",
     "output_type": "stream",
     "text": [
      "Processando deputados:  46%|██████████████████████████                               | 234/513 [04:11<04:37,  1.01it/s]"
     ]
    },
    {
     "name": "stdout",
     "output_type": "stream",
     "text": [
      "Buscando dados para o deputado Hercílio Coelho Diniz (ID 204539)...\n"
     ]
    },
    {
     "name": "stderr",
     "output_type": "stream",
     "text": [
      "Processando deputados:  46%|██████████████████████████                               | 235/513 [04:12<04:37,  1.00it/s]"
     ]
    },
    {
     "name": "stdout",
     "output_type": "stream",
     "text": [
      "Buscando dados para o deputado Hildo Rocha (ID 178884)...\n"
     ]
    },
    {
     "name": "stderr",
     "output_type": "stream",
     "text": [
      "Processando deputados:  46%|██████████████████████████▏                              | 236/513 [04:13<04:40,  1.01s/it]"
     ]
    },
    {
     "name": "stdout",
     "output_type": "stream",
     "text": [
      "Buscando dados para o deputado Hugo Leal (ID 141450)...\n"
     ]
    },
    {
     "name": "stderr",
     "output_type": "stream",
     "text": [
      "Processando deputados:  46%|██████████████████████████▎                              | 237/513 [04:14<04:53,  1.07s/it]"
     ]
    },
    {
     "name": "stdout",
     "output_type": "stream",
     "text": [
      "Buscando dados para o deputado Hugo Motta (ID 160674)...\n"
     ]
    },
    {
     "name": "stderr",
     "output_type": "stream",
     "text": [
      "Processando deputados:  46%|██████████████████████████▍                              | 238/513 [04:15<05:02,  1.10s/it]"
     ]
    },
    {
     "name": "stdout",
     "output_type": "stream",
     "text": [
      "Buscando dados para o deputado Icaro de Valmir (ID 220563)...\n"
     ]
    },
    {
     "name": "stderr",
     "output_type": "stream",
     "text": [
      "Processando deputados:  47%|██████████████████████████▌                              | 239/513 [04:16<05:01,  1.10s/it]"
     ]
    },
    {
     "name": "stdout",
     "output_type": "stream",
     "text": [
      "Buscando dados para o deputado Igor Timo (ID 204508)...\n"
     ]
    },
    {
     "name": "stderr",
     "output_type": "stream",
     "text": [
      "Processando deputados:  47%|██████████████████████████▋                              | 240/513 [04:18<05:03,  1.11s/it]"
     ]
    },
    {
     "name": "stdout",
     "output_type": "stream",
     "text": [
      "Buscando dados para o deputado Ismael (ID 98615)...\n"
     ]
    },
    {
     "name": "stderr",
     "output_type": "stream",
     "text": [
      "Processando deputados:  47%|██████████████████████████▊                              | 241/513 [04:19<04:47,  1.06s/it]"
     ]
    },
    {
     "name": "stdout",
     "output_type": "stream",
     "text": [
      "Buscando dados para o deputado Isnaldo Bulhões Jr. (ID 204436)...\n"
     ]
    },
    {
     "name": "stderr",
     "output_type": "stream",
     "text": [
      "Processando deputados:  47%|██████████████████████████▉                              | 242/513 [04:20<04:44,  1.05s/it]"
     ]
    },
    {
     "name": "stdout",
     "output_type": "stream",
     "text": [
      "Buscando dados para o deputado Ivan Junior (ID 230764)...\n"
     ]
    },
    {
     "name": "stderr",
     "output_type": "stream",
     "text": [
      "Processando deputados:  47%|███████████████████████████                              | 243/513 [04:21<04:39,  1.03s/it]"
     ]
    },
    {
     "name": "stdout",
     "output_type": "stream",
     "text": [
      "Buscando dados para o deputado Ivan Valente (ID 73531)...\n"
     ]
    },
    {
     "name": "stderr",
     "output_type": "stream",
     "text": [
      "Processando deputados:  48%|███████████████████████████                              | 244/513 [04:22<04:47,  1.07s/it]"
     ]
    },
    {
     "name": "stdout",
     "output_type": "stream",
     "text": [
      "Buscando dados para o deputado Ivoneide Caetano (ID 220696)...\n"
     ]
    },
    {
     "name": "stderr",
     "output_type": "stream",
     "text": [
      "Processando deputados:  48%|███████████████████████████▏                             | 245/513 [04:23<04:41,  1.05s/it]"
     ]
    },
    {
     "name": "stdout",
     "output_type": "stream",
     "text": [
      "Buscando dados para o deputado Iza Arruda (ID 220670)...\n"
     ]
    },
    {
     "name": "stderr",
     "output_type": "stream",
     "text": [
      "Processando deputados:  48%|███████████████████████████▎                             | 246/513 [04:24<04:37,  1.04s/it]"
     ]
    },
    {
     "name": "stdout",
     "output_type": "stream",
     "text": [
      "Buscando dados para o deputado Jack Rocha (ID 220527)...\n"
     ]
    },
    {
     "name": "stderr",
     "output_type": "stream",
     "text": [
      "Processando deputados:  48%|███████████████████████████▍                             | 247/513 [04:25<04:37,  1.04s/it]"
     ]
    },
    {
     "name": "stdout",
     "output_type": "stream",
     "text": [
      "Buscando dados para o deputado Jadyel Alencar (ID 220697)...\n"
     ]
    },
    {
     "name": "stderr",
     "output_type": "stream",
     "text": [
      "Processando deputados:  48%|███████████████████████████▌                             | 248/513 [04:26<04:33,  1.03s/it]"
     ]
    },
    {
     "name": "stdout",
     "output_type": "stream",
     "text": [
      "Buscando dados para o deputado Jandira Feghali (ID 74848)...\n"
     ]
    },
    {
     "name": "stderr",
     "output_type": "stream",
     "text": [
      "Processando deputados:  49%|███████████████████████████▋                             | 249/513 [04:27<04:42,  1.07s/it]"
     ]
    },
    {
     "name": "stdout",
     "output_type": "stream",
     "text": [
      "Buscando dados para o deputado Jeferson Rodrigues (ID 220567)...\n"
     ]
    },
    {
     "name": "stderr",
     "output_type": "stream",
     "text": [
      "Processando deputados:  49%|███████████████████████████▊                             | 250/513 [04:28<04:39,  1.06s/it]"
     ]
    },
    {
     "name": "stdout",
     "output_type": "stream",
     "text": [
      "Buscando dados para o deputado Jefferson Campos (ID 74273)...\n"
     ]
    },
    {
     "name": "stderr",
     "output_type": "stream",
     "text": [
      "Processando deputados:  49%|███████████████████████████▉                             | 251/513 [04:29<04:32,  1.04s/it]"
     ]
    },
    {
     "name": "stdout",
     "output_type": "stream",
     "text": [
      "Buscando dados para o deputado Jilmar Tatto (ID 141456)...\n"
     ]
    },
    {
     "name": "stderr",
     "output_type": "stream",
     "text": [
      "Processando deputados:  49%|████████████████████████████                             | 252/513 [04:30<04:35,  1.06s/it]"
     ]
    },
    {
     "name": "stdout",
     "output_type": "stream",
     "text": [
      "Buscando dados para o deputado João Carlos Bacelar (ID 141458)...\n"
     ]
    },
    {
     "name": "stderr",
     "output_type": "stream",
     "text": [
      "Processando deputados:  49%|████████████████████████████                             | 253/513 [04:31<04:25,  1.02s/it]"
     ]
    },
    {
     "name": "stdout",
     "output_type": "stream",
     "text": [
      "Buscando dados para o deputado João Cury (ID 230957)...\n"
     ]
    },
    {
     "name": "stderr",
     "output_type": "stream",
     "text": [
      "Processando deputados:  50%|████████████████████████████▏                            | 254/513 [04:32<04:20,  1.01s/it]"
     ]
    },
    {
     "name": "stdout",
     "output_type": "stream",
     "text": [
      "Buscando dados para o deputado João Daniel (ID 178970)...\n"
     ]
    },
    {
     "name": "stderr",
     "output_type": "stream",
     "text": [
      "Processando deputados:  50%|████████████████████████████▎                            | 255/513 [04:33<04:19,  1.01s/it]"
     ]
    },
    {
     "name": "stdout",
     "output_type": "stream",
     "text": [
      "Buscando dados para o deputado João Leão (ID 74550)...\n"
     ]
    },
    {
     "name": "stderr",
     "output_type": "stream",
     "text": [
      "Processando deputados:  50%|████████████████████████████▍                            | 256/513 [04:34<04:13,  1.01it/s]"
     ]
    },
    {
     "name": "stdout",
     "output_type": "stream",
     "text": [
      "Buscando dados para o deputado João Maia (ID 141459)...\n"
     ]
    },
    {
     "name": "stderr",
     "output_type": "stream",
     "text": [
      "Processando deputados:  50%|████████████████████████████▌                            | 257/513 [04:35<04:18,  1.01s/it]"
     ]
    },
    {
     "name": "stdout",
     "output_type": "stream",
     "text": [
      "Buscando dados para o deputado Joaquim Passarinho (ID 178910)...\n"
     ]
    },
    {
     "name": "stderr",
     "output_type": "stream",
     "text": [
      "Processando deputados:  50%|████████████████████████████▋                            | 258/513 [04:36<04:12,  1.01it/s]"
     ]
    },
    {
     "name": "stdout",
     "output_type": "stream",
     "text": [
      "Buscando dados para o deputado Jonas Donizette (ID 160548)...\n"
     ]
    },
    {
     "name": "stderr",
     "output_type": "stream",
     "text": [
      "Processando deputados:  50%|████████████████████████████▊                            | 259/513 [04:37<04:16,  1.01s/it]"
     ]
    },
    {
     "name": "stdout",
     "output_type": "stream",
     "text": [
      "Buscando dados para o deputado Jorge Braz (ID 205550)...\n"
     ]
    },
    {
     "name": "stderr",
     "output_type": "stream",
     "text": [
      "Processando deputados:  51%|████████████████████████████▉                            | 260/513 [04:38<04:18,  1.02s/it]"
     ]
    },
    {
     "name": "stdout",
     "output_type": "stream",
     "text": [
      "Buscando dados para o deputado Jorge Goetten (ID 214694)...\n"
     ]
    },
    {
     "name": "stderr",
     "output_type": "stream",
     "text": [
      "Processando deputados:  51%|█████████████████████████████                            | 261/513 [04:39<04:20,  1.03s/it]"
     ]
    },
    {
     "name": "stdout",
     "output_type": "stream",
     "text": [
      "Buscando dados para o deputado Jorge Solla (ID 178857)...\n"
     ]
    },
    {
     "name": "stderr",
     "output_type": "stream",
     "text": [
      "Processando deputados:  51%|█████████████████████████████                            | 262/513 [04:40<04:29,  1.08s/it]"
     ]
    },
    {
     "name": "stdout",
     "output_type": "stream",
     "text": [
      "Buscando dados para o deputado José Airton Félix Cirilo (ID 141464)...\n"
     ]
    },
    {
     "name": "stderr",
     "output_type": "stream",
     "text": [
      "Processando deputados:  51%|█████████████████████████████▏                           | 263/513 [04:41<04:29,  1.08s/it]"
     ]
    },
    {
     "name": "stdout",
     "output_type": "stream",
     "text": [
      "Buscando dados para o deputado José Guimarães (ID 141470)...\n"
     ]
    },
    {
     "name": "stderr",
     "output_type": "stream",
     "text": [
      "Processando deputados:  51%|█████████████████████████████▎                           | 264/513 [04:43<04:35,  1.11s/it]"
     ]
    },
    {
     "name": "stdout",
     "output_type": "stream",
     "text": [
      "Buscando dados para o deputado José Medeiros (ID 204472)...\n"
     ]
    },
    {
     "name": "stderr",
     "output_type": "stream",
     "text": [
      "Processando deputados:  52%|█████████████████████████████▍                           | 265/513 [04:44<04:37,  1.12s/it]"
     ]
    },
    {
     "name": "stdout",
     "output_type": "stream",
     "text": [
      "Buscando dados para o deputado José Nelto (ID 204391)...\n"
     ]
    },
    {
     "name": "stderr",
     "output_type": "stream",
     "text": [
      "Processando deputados:  52%|█████████████████████████████▌                           | 266/513 [04:45<04:28,  1.09s/it]"
     ]
    },
    {
     "name": "stdout",
     "output_type": "stream",
     "text": [
      "Buscando dados para o deputado José Priante (ID 74079)...\n"
     ]
    },
    {
     "name": "stderr",
     "output_type": "stream",
     "text": [
      "Processando deputados:  52%|█████████████████████████████▋                           | 267/513 [04:46<04:27,  1.09s/it]"
     ]
    },
    {
     "name": "stdout",
     "output_type": "stream",
     "text": [
      "Buscando dados para o deputado José Rocha (ID 74554)...\n"
     ]
    },
    {
     "name": "stderr",
     "output_type": "stream",
     "text": [
      "Processando deputados:  52%|█████████████████████████████▊                           | 268/513 [04:47<04:18,  1.06s/it]"
     ]
    },
    {
     "name": "stdout",
     "output_type": "stream",
     "text": [
      "Buscando dados para o deputado Joseildo Ramos (ID 209189)...\n"
     ]
    },
    {
     "name": "stderr",
     "output_type": "stream",
     "text": [
      "Processando deputados:  52%|█████████████████████████████▉                           | 269/513 [04:48<04:17,  1.06s/it]"
     ]
    },
    {
     "name": "stdout",
     "output_type": "stream",
     "text": [
      "Buscando dados para o deputado Josenildo (ID 220578)...\n"
     ]
    },
    {
     "name": "stderr",
     "output_type": "stream",
     "text": [
      "Processando deputados:  53%|██████████████████████████████                           | 270/513 [04:49<04:12,  1.04s/it]"
     ]
    },
    {
     "name": "stdout",
     "output_type": "stream",
     "text": [
      "Buscando dados para o deputado Josias Gomes (ID 74141)...\n"
     ]
    },
    {
     "name": "stderr",
     "output_type": "stream",
     "text": [
      "Processando deputados:  53%|██████████████████████████████                           | 271/513 [04:50<04:15,  1.06s/it]"
     ]
    },
    {
     "name": "stdout",
     "output_type": "stream",
     "text": [
      "Buscando dados para o deputado Josimar Maranhãozinho (ID 204563)...\n"
     ]
    },
    {
     "name": "stderr",
     "output_type": "stream",
     "text": [
      "Processando deputados:  53%|██████████████████████████████▏                          | 272/513 [04:51<04:13,  1.05s/it]"
     ]
    },
    {
     "name": "stdout",
     "output_type": "stream",
     "text": [
      "Buscando dados para o deputado Josivaldo JP (ID 215043)...\n"
     ]
    },
    {
     "name": "stderr",
     "output_type": "stream",
     "text": [
      "Processando deputados:  53%|██████████████████████████████▎                          | 273/513 [04:52<04:10,  1.05s/it]"
     ]
    },
    {
     "name": "stdout",
     "output_type": "stream",
     "text": [
      "Buscando dados para o deputado Juarez Costa (ID 204474)...\n"
     ]
    },
    {
     "name": "stderr",
     "output_type": "stream",
     "text": [
      "Processando deputados:  53%|██████████████████████████████▍                          | 274/513 [04:53<04:06,  1.03s/it]"
     ]
    },
    {
     "name": "stdout",
     "output_type": "stream",
     "text": [
      "Buscando dados para o deputado Julia Zanatta (ID 220559)...\n"
     ]
    },
    {
     "name": "stderr",
     "output_type": "stream",
     "text": [
      "Processando deputados:  54%|██████████████████████████████▌                          | 275/513 [04:54<04:06,  1.04s/it]"
     ]
    },
    {
     "name": "stdout",
     "output_type": "stream",
     "text": [
      "Buscando dados para o deputado Juliana Cardoso (ID 220640)...\n"
     ]
    },
    {
     "name": "stderr",
     "output_type": "stream",
     "text": [
      "Processando deputados:  54%|██████████████████████████████▋                          | 276/513 [04:55<04:05,  1.03s/it]"
     ]
    },
    {
     "name": "stdout",
     "output_type": "stream",
     "text": [
      "Buscando dados para o deputado Julio Arcoverde (ID 66385)...\n"
     ]
    },
    {
     "name": "stderr",
     "output_type": "stream",
     "text": [
      "Processando deputados:  54%|██████████████████████████████▊                          | 277/513 [04:56<04:02,  1.03s/it]"
     ]
    },
    {
     "name": "stdout",
     "output_type": "stream",
     "text": [
      "Buscando dados para o deputado Júlio Cesar (ID 74317)...\n"
     ]
    },
    {
     "name": "stderr",
     "output_type": "stream",
     "text": [
      "Processando deputados:  54%|██████████████████████████████▉                          | 278/513 [04:57<04:05,  1.05s/it]"
     ]
    },
    {
     "name": "stdout",
     "output_type": "stream",
     "text": [
      "Buscando dados para o deputado Julio Cesar Ribeiro (ID 204372)...\n"
     ]
    },
    {
     "name": "stderr",
     "output_type": "stream",
     "text": [
      "Processando deputados:  54%|███████████████████████████████                          | 279/513 [04:58<04:01,  1.03s/it]"
     ]
    },
    {
     "name": "stdout",
     "output_type": "stream",
     "text": [
      "Buscando dados para o deputado Julio Lopes (ID 74253)...\n"
     ]
    },
    {
     "name": "stderr",
     "output_type": "stream",
     "text": [
      "Processando deputados:  55%|███████████████████████████████                          | 280/513 [04:59<04:02,  1.04s/it]"
     ]
    },
    {
     "name": "stdout",
     "output_type": "stream",
     "text": [
      "Buscando dados para o deputado Juninho do Pneu (ID 204457)...\n"
     ]
    },
    {
     "name": "stderr",
     "output_type": "stream",
     "text": [
      "Processando deputados:  55%|███████████████████████████████▏                         | 281/513 [05:00<04:03,  1.05s/it]"
     ]
    },
    {
     "name": "stdout",
     "output_type": "stream",
     "text": [
      "Buscando dados para o deputado Junio Amaral (ID 204520)...\n"
     ]
    },
    {
     "name": "stderr",
     "output_type": "stream",
     "text": [
      "Processando deputados:  55%|███████████████████████████████▎                         | 282/513 [05:01<04:02,  1.05s/it]"
     ]
    },
    {
     "name": "stdout",
     "output_type": "stream",
     "text": [
      "Buscando dados para o deputado Júnior Ferrari (ID 204497)...\n"
     ]
    },
    {
     "name": "stderr",
     "output_type": "stream",
     "text": [
      "Processando deputados:  55%|███████████████████████████████▍                         | 283/513 [05:02<03:56,  1.03s/it]"
     ]
    },
    {
     "name": "stdout",
     "output_type": "stream",
     "text": [
      "Buscando dados para o deputado Junior Lourenço (ID 204574)...\n"
     ]
    },
    {
     "name": "stderr",
     "output_type": "stream",
     "text": [
      "Processando deputados:  55%|███████████████████████████████▌                         | 284/513 [05:03<03:55,  1.03s/it]"
     ]
    },
    {
     "name": "stdout",
     "output_type": "stream",
     "text": [
      "Buscando dados para o deputado Júnior Mano (ID 204550)...\n"
     ]
    },
    {
     "name": "stderr",
     "output_type": "stream",
     "text": [
      "Processando deputados:  56%|███████████████████████████████▋                         | 285/513 [05:04<03:49,  1.01s/it]"
     ]
    },
    {
     "name": "stdout",
     "output_type": "stream",
     "text": [
      "Buscando dados para o deputado Keniston Braga (ID 220677)...\n"
     ]
    },
    {
     "name": "stderr",
     "output_type": "stream",
     "text": [
      "Processando deputados:  56%|███████████████████████████████▊                         | 286/513 [05:05<03:48,  1.01s/it]"
     ]
    },
    {
     "name": "stdout",
     "output_type": "stream",
     "text": [
      "Buscando dados para o deputado Kiko Celeguim (ID 162067)...\n"
     ]
    },
    {
     "name": "stderr",
     "output_type": "stream",
     "text": [
      "Processando deputados:  56%|███████████████████████████████▉                         | 287/513 [05:06<03:41,  1.02it/s]"
     ]
    },
    {
     "name": "stdout",
     "output_type": "stream",
     "text": [
      "Buscando dados para o deputado Kim Kataguiri (ID 204536)...\n"
     ]
    },
    {
     "name": "stderr",
     "output_type": "stream",
     "text": [
      "Processando deputados:  56%|████████████████████████████████                         | 288/513 [05:07<03:42,  1.01it/s]"
     ]
    },
    {
     "name": "stdout",
     "output_type": "stream",
     "text": [
      "Buscando dados para o deputado Lafayette de Andrada (ID 98057)...\n"
     ]
    },
    {
     "name": "stderr",
     "output_type": "stream",
     "text": [
      "Processando deputados:  56%|████████████████████████████████                         | 289/513 [05:08<03:41,  1.01it/s]"
     ]
    },
    {
     "name": "stdout",
     "output_type": "stream",
     "text": [
      "Buscando dados para o deputado Laura Carneiro (ID 74856)...\n"
     ]
    },
    {
     "name": "stderr",
     "output_type": "stream",
     "text": [
      "Processando deputados:  57%|████████████████████████████████▏                        | 290/513 [05:09<03:46,  1.01s/it]"
     ]
    },
    {
     "name": "stdout",
     "output_type": "stream",
     "text": [
      "Buscando dados para o deputado Lázaro Botelho (ID 141480)...\n"
     ]
    },
    {
     "name": "stderr",
     "output_type": "stream",
     "text": [
      "Processando deputados:  57%|████████████████████████████████▎                        | 291/513 [05:10<03:43,  1.00s/it]"
     ]
    },
    {
     "name": "stdout",
     "output_type": "stream",
     "text": [
      "Buscando dados para o deputado Lebrão (ID 220600)...\n"
     ]
    },
    {
     "name": "stderr",
     "output_type": "stream",
     "text": [
      "Processando deputados:  57%|████████████████████████████████▍                        | 292/513 [05:11<03:41,  1.00s/it]"
     ]
    },
    {
     "name": "stdout",
     "output_type": "stream",
     "text": [
      "Buscando dados para o deputado Lêda Borges (ID 220566)...\n"
     ]
    },
    {
     "name": "stderr",
     "output_type": "stream",
     "text": [
      "Processando deputados:  57%|████████████████████████████████▌                        | 293/513 [05:12<03:38,  1.01it/s]"
     ]
    },
    {
     "name": "stdout",
     "output_type": "stream",
     "text": [
      "Buscando dados para o deputado Leo Prates (ID 80815)...\n"
     ]
    },
    {
     "name": "stderr",
     "output_type": "stream",
     "text": [
      "Processando deputados:  57%|████████████████████████████████▋                        | 294/513 [05:13<03:39,  1.00s/it]"
     ]
    },
    {
     "name": "stdout",
     "output_type": "stream",
     "text": [
      "Buscando dados para o deputado Leonardo Monteiro (ID 74156)...\n"
     ]
    },
    {
     "name": "stderr",
     "output_type": "stream",
     "text": [
      "Processando deputados:  58%|████████████████████████████████▊                        | 295/513 [05:14<03:38,  1.00s/it]"
     ]
    },
    {
     "name": "stdout",
     "output_type": "stream",
     "text": [
      "Buscando dados para o deputado Leônidas Cristino (ID 74299)...\n"
     ]
    },
    {
     "name": "stderr",
     "output_type": "stream",
     "text": [
      "Processando deputados:  58%|████████████████████████████████▉                        | 296/513 [05:15<03:35,  1.01it/s]"
     ]
    },
    {
     "name": "stdout",
     "output_type": "stream",
     "text": [
      "Buscando dados para o deputado Leur Lomanto Júnior (ID 92102)...\n"
     ]
    },
    {
     "name": "stderr",
     "output_type": "stream",
     "text": [
      "Processando deputados:  58%|█████████████████████████████████                        | 297/513 [05:16<03:39,  1.02s/it]"
     ]
    },
    {
     "name": "stdout",
     "output_type": "stream",
     "text": [
      "Buscando dados para o deputado Lídice da Mata (ID 139285)...\n"
     ]
    },
    {
     "name": "stderr",
     "output_type": "stream",
     "text": [
      "Processando deputados:  58%|█████████████████████████████████                        | 298/513 [05:18<03:50,  1.07s/it]"
     ]
    },
    {
     "name": "stdout",
     "output_type": "stream",
     "text": [
      "Buscando dados para o deputado Lincoln Portela (ID 74585)...\n"
     ]
    },
    {
     "name": "stderr",
     "output_type": "stream",
     "text": [
      "Processando deputados:  58%|█████████████████████████████████▏                       | 299/513 [05:19<03:57,  1.11s/it]"
     ]
    },
    {
     "name": "stdout",
     "output_type": "stream",
     "text": [
      "Buscando dados para o deputado Lindbergh Farias (ID 74858)...\n"
     ]
    },
    {
     "name": "stderr",
     "output_type": "stream",
     "text": [
      "Processando deputados:  58%|█████████████████████████████████▎                       | 300/513 [05:20<03:52,  1.09s/it]"
     ]
    },
    {
     "name": "stdout",
     "output_type": "stream",
     "text": [
      "Buscando dados para o deputado Lucas Ramos (ID 220662)...\n"
     ]
    },
    {
     "name": "stderr",
     "output_type": "stream",
     "text": [
      "Processando deputados:  59%|█████████████████████████████████▍                       | 301/513 [05:21<03:48,  1.08s/it]"
     ]
    },
    {
     "name": "stdout",
     "output_type": "stream",
     "text": [
      "Buscando dados para o deputado Lucas Redecker (ID 204404)...\n"
     ]
    },
    {
     "name": "stderr",
     "output_type": "stream",
     "text": [
      "Processando deputados:  59%|█████████████████████████████████▌                       | 302/513 [05:22<03:45,  1.07s/it]"
     ]
    },
    {
     "name": "stdout",
     "output_type": "stream",
     "text": [
      "Buscando dados para o deputado Luciano Alves (ID 138286)...\n"
     ]
    },
    {
     "name": "stderr",
     "output_type": "stream",
     "text": [
      "Processando deputados:  59%|█████████████████████████████████▋                       | 303/513 [05:23<03:39,  1.04s/it]"
     ]
    },
    {
     "name": "stdout",
     "output_type": "stream",
     "text": [
      "Buscando dados para o deputado Luciano Amaral (ID 220581)...\n"
     ]
    },
    {
     "name": "stderr",
     "output_type": "stream",
     "text": [
      "Processando deputados:  59%|█████████████████████████████████▊                       | 304/513 [05:24<03:34,  1.03s/it]"
     ]
    },
    {
     "name": "stdout",
     "output_type": "stream",
     "text": [
      "Buscando dados para o deputado Luciano Bivar (ID 74478)...\n"
     ]
    },
    {
     "name": "stderr",
     "output_type": "stream",
     "text": [
      "Processando deputados:  59%|█████████████████████████████████▉                       | 305/513 [05:25<03:32,  1.02s/it]"
     ]
    },
    {
     "name": "stdout",
     "output_type": "stream",
     "text": [
      "Buscando dados para o deputado Luciano Ducci (ID 178931)...\n"
     ]
    },
    {
     "name": "stderr",
     "output_type": "stream",
     "text": [
      "Processando deputados:  60%|██████████████████████████████████                       | 306/513 [05:26<03:29,  1.01s/it]"
     ]
    },
    {
     "name": "stdout",
     "output_type": "stream",
     "text": [
      "Buscando dados para o deputado Luciano Vieira (ID 220616)...\n"
     ]
    },
    {
     "name": "stderr",
     "output_type": "stream",
     "text": [
      "Processando deputados:  60%|██████████████████████████████████                       | 307/513 [05:27<03:27,  1.01s/it]"
     ]
    },
    {
     "name": "stdout",
     "output_type": "stream",
     "text": [
      "Buscando dados para o deputado Lucio Mosquini (ID 178954)...\n"
     ]
    },
    {
     "name": "stderr",
     "output_type": "stream",
     "text": [
      "Processando deputados:  60%|██████████████████████████████████▏                      | 308/513 [05:28<03:31,  1.03s/it]"
     ]
    },
    {
     "name": "stdout",
     "output_type": "stream",
     "text": [
      "Buscando dados para o deputado Luis Carlos Gomes (ID 222429)...\n"
     ]
    },
    {
     "name": "stderr",
     "output_type": "stream",
     "text": [
      "Processando deputados:  60%|██████████████████████████████████▎                      | 309/513 [05:29<03:26,  1.01s/it]"
     ]
    },
    {
     "name": "stdout",
     "output_type": "stream",
     "text": [
      "Buscando dados para o deputado Luis Tibé (ID 160510)...\n"
     ]
    },
    {
     "name": "stderr",
     "output_type": "stream",
     "text": [
      "Processando deputados:  60%|██████████████████████████████████▍                      | 310/513 [05:30<03:26,  1.02s/it]"
     ]
    },
    {
     "name": "stdout",
     "output_type": "stream",
     "text": [
      "Buscando dados para o deputado Luisa Canziani (ID 204410)...\n"
     ]
    },
    {
     "name": "stderr",
     "output_type": "stream",
     "text": [
      "Processando deputados:  61%|██████████████████████████████████▌                      | 311/513 [05:31<03:29,  1.04s/it]"
     ]
    },
    {
     "name": "stdout",
     "output_type": "stream",
     "text": [
      "Buscando dados para o deputado Luiz Carlos Busato (ID 141485)...\n"
     ]
    },
    {
     "name": "stderr",
     "output_type": "stream",
     "text": [
      "Processando deputados:  61%|██████████████████████████████████▋                      | 312/513 [05:32<03:29,  1.04s/it]"
     ]
    },
    {
     "name": "stdout",
     "output_type": "stream",
     "text": [
      "Buscando dados para o deputado Luiz Carlos Hauly (ID 73778)...\n"
     ]
    },
    {
     "name": "stderr",
     "output_type": "stream",
     "text": [
      "Processando deputados:  61%|██████████████████████████████████▊                      | 313/513 [05:33<03:28,  1.04s/it]"
     ]
    },
    {
     "name": "stdout",
     "output_type": "stream",
     "text": [
      "Buscando dados para o deputado Luiz Carlos Motta (ID 204485)...\n"
     ]
    },
    {
     "name": "stderr",
     "output_type": "stream",
     "text": [
      "Processando deputados:  61%|██████████████████████████████████▉                      | 314/513 [05:34<03:24,  1.03s/it]"
     ]
    },
    {
     "name": "stdout",
     "output_type": "stream",
     "text": [
      "Buscando dados para o deputado Luiz Couto (ID 74041)...\n"
     ]
    },
    {
     "name": "stderr",
     "output_type": "stream",
     "text": [
      "Processando deputados:  61%|███████████████████████████████████                      | 315/513 [05:35<03:32,  1.08s/it]"
     ]
    },
    {
     "name": "stdout",
     "output_type": "stream",
     "text": [
      "Buscando dados para o deputado Luiz Fernando Faria (ID 141487)...\n"
     ]
    },
    {
     "name": "stderr",
     "output_type": "stream",
     "text": [
      "Processando deputados:  62%|███████████████████████████████████                      | 316/513 [05:36<03:32,  1.08s/it]"
     ]
    },
    {
     "name": "stdout",
     "output_type": "stream",
     "text": [
      "Buscando dados para o deputado Luiz Gastão (ID 220658)...\n"
     ]
    },
    {
     "name": "stderr",
     "output_type": "stream",
     "text": [
      "Processando deputados:  62%|███████████████████████████████████▏                     | 317/513 [05:37<03:24,  1.04s/it]"
     ]
    },
    {
     "name": "stdout",
     "output_type": "stream",
     "text": [
      "Buscando dados para o deputado Luiz Lima (ID 204455)...\n"
     ]
    },
    {
     "name": "stderr",
     "output_type": "stream",
     "text": [
      "Processando deputados:  62%|███████████████████████████████████▎                     | 318/513 [05:38<03:21,  1.03s/it]"
     ]
    },
    {
     "name": "stdout",
     "output_type": "stream",
     "text": [
      "Buscando dados para o deputado Luiz Nishimori (ID 162332)...\n"
     ]
    },
    {
     "name": "stderr",
     "output_type": "stream",
     "text": [
      "Processando deputados:  62%|███████████████████████████████████▍                     | 319/513 [05:39<03:26,  1.06s/it]"
     ]
    },
    {
     "name": "stdout",
     "output_type": "stream",
     "text": [
      "Buscando dados para o deputado Luiz Philippe de Orleans e Bragança (ID 204526)...\n"
     ]
    },
    {
     "name": "stderr",
     "output_type": "stream",
     "text": [
      "Processando deputados:  62%|███████████████████████████████████▌                     | 320/513 [05:41<03:22,  1.05s/it]"
     ]
    },
    {
     "name": "stdout",
     "output_type": "stream",
     "text": [
      "Buscando dados para o deputado Luiza Erundina (ID 74784)...\n"
     ]
    },
    {
     "name": "stderr",
     "output_type": "stream",
     "text": [
      "Processando deputados:  63%|███████████████████████████████████▋                     | 321/513 [05:42<03:30,  1.10s/it]"
     ]
    },
    {
     "name": "stdout",
     "output_type": "stream",
     "text": [
      "Buscando dados para o deputado Luizianne Lins (ID 178866)...\n"
     ]
    },
    {
     "name": "stderr",
     "output_type": "stream",
     "text": [
      "Processando deputados:  63%|███████████████████████████████████▊                     | 322/513 [05:43<03:29,  1.10s/it]"
     ]
    },
    {
     "name": "stdout",
     "output_type": "stream",
     "text": [
      "Buscando dados para o deputado Lula da Fonte (ID 220669)...\n"
     ]
    },
    {
     "name": "stderr",
     "output_type": "stream",
     "text": [
      "Processando deputados:  63%|███████████████████████████████████▉                     | 323/513 [05:44<03:26,  1.09s/it]"
     ]
    },
    {
     "name": "stdout",
     "output_type": "stream",
     "text": [
      "Buscando dados para o deputado Magda Mofatto (ID 166402)...\n"
     ]
    },
    {
     "name": "stderr",
     "output_type": "stream",
     "text": [
      "Processando deputados:  63%|████████████████████████████████████                     | 324/513 [05:45<03:19,  1.06s/it]"
     ]
    },
    {
     "name": "stdout",
     "output_type": "stream",
     "text": [
      "Buscando dados para o deputado Marangoni (ID 220648)...\n"
     ]
    },
    {
     "name": "stderr",
     "output_type": "stream",
     "text": [
      "Processando deputados:  63%|████████████████████████████████████                     | 325/513 [05:46<03:14,  1.03s/it]"
     ]
    },
    {
     "name": "stdout",
     "output_type": "stream",
     "text": [
      "Buscando dados para o deputado Marcel van Hattem (ID 156190)...\n"
     ]
    },
    {
     "name": "stderr",
     "output_type": "stream",
     "text": [
      "Processando deputados:  64%|████████████████████████████████████▏                    | 326/513 [05:47<03:14,  1.04s/it]"
     ]
    },
    {
     "name": "stdout",
     "output_type": "stream",
     "text": [
      "Buscando dados para o deputado Marcelo Álvaro Antônio (ID 179000)...\n"
     ]
    },
    {
     "name": "stderr",
     "output_type": "stream",
     "text": [
      "Processando deputados:  64%|████████████████████████████████████▎                    | 327/513 [05:48<03:16,  1.06s/it]"
     ]
    },
    {
     "name": "stdout",
     "output_type": "stream",
     "text": [
      "Buscando dados para o deputado Marcelo Crivella (ID 220599)...\n"
     ]
    },
    {
     "name": "stderr",
     "output_type": "stream",
     "text": [
      "Processando deputados:  64%|████████████████████████████████████▍                    | 328/513 [05:49<03:08,  1.02s/it]"
     ]
    },
    {
     "name": "stdout",
     "output_type": "stream",
     "text": [
      "Buscando dados para o deputado Marcelo Moraes (ID 133810)...\n"
     ]
    },
    {
     "name": "stderr",
     "output_type": "stream",
     "text": [
      "Processando deputados:  64%|████████████████████████████████████▌                    | 329/513 [05:50<03:08,  1.02s/it]"
     ]
    },
    {
     "name": "stdout",
     "output_type": "stream",
     "text": [
      "Buscando dados para o deputado Marcelo Queiroz (ID 160161)...\n"
     ]
    },
    {
     "name": "stderr",
     "output_type": "stream",
     "text": [
      "Processando deputados:  64%|████████████████████████████████████▋                    | 330/513 [05:51<03:08,  1.03s/it]"
     ]
    },
    {
     "name": "stdout",
     "output_type": "stream",
     "text": [
      "Buscando dados para o deputado Marcio Alvino (ID 178983)...\n"
     ]
    },
    {
     "name": "stderr",
     "output_type": "stream",
     "text": [
      "Processando deputados:  65%|████████████████████████████████████▊                    | 331/513 [05:52<03:05,  1.02s/it]"
     ]
    },
    {
     "name": "stdout",
     "output_type": "stream",
     "text": [
      "Buscando dados para o deputado Márcio Biolchi (ID 179001)...\n"
     ]
    },
    {
     "name": "stderr",
     "output_type": "stream",
     "text": [
      "Processando deputados:  65%|████████████████████████████████████▉                    | 332/513 [05:53<03:09,  1.05s/it]"
     ]
    },
    {
     "name": "stdout",
     "output_type": "stream",
     "text": [
      "Buscando dados para o deputado Márcio Honaiser (ID 220687)...\n"
     ]
    },
    {
     "name": "stderr",
     "output_type": "stream",
     "text": [
      "Processando deputados:  65%|█████████████████████████████████████                    | 333/513 [05:54<03:05,  1.03s/it]"
     ]
    },
    {
     "name": "stdout",
     "output_type": "stream",
     "text": [
      "Buscando dados para o deputado Márcio Jerry (ID 81055)...\n"
     ]
    },
    {
     "name": "stderr",
     "output_type": "stream",
     "text": [
      "Processando deputados:  65%|█████████████████████████████████████                    | 334/513 [05:55<03:06,  1.04s/it]"
     ]
    },
    {
     "name": "stdout",
     "output_type": "stream",
     "text": [
      "Buscando dados para o deputado Márcio Marinho (ID 150418)...\n"
     ]
    },
    {
     "name": "stderr",
     "output_type": "stream",
     "text": [
      "Processando deputados:  65%|█████████████████████████████████████▏                   | 335/513 [05:56<03:01,  1.02s/it]"
     ]
    },
    {
     "name": "stdout",
     "output_type": "stream",
     "text": [
      "Buscando dados para o deputado Marco Brasil (ID 219585)...\n"
     ]
    },
    {
     "name": "stderr",
     "output_type": "stream",
     "text": [
      "Processando deputados:  65%|█████████████████████████████████████▎                   | 336/513 [05:57<02:59,  1.01s/it]"
     ]
    },
    {
     "name": "stdout",
     "output_type": "stream",
     "text": [
      "Buscando dados para o deputado Marcon (ID 160535)...\n"
     ]
    },
    {
     "name": "stderr",
     "output_type": "stream",
     "text": [
      "Processando deputados:  66%|█████████████████████████████████████▍                   | 337/513 [05:58<03:06,  1.06s/it]"
     ]
    },
    {
     "name": "stdout",
     "output_type": "stream",
     "text": [
      "Buscando dados para o deputado Marcos Aurélio Sampaio (ID 204431)...\n"
     ]
    },
    {
     "name": "stderr",
     "output_type": "stream",
     "text": [
      "Processando deputados:  66%|█████████████████████████████████████▌                   | 338/513 [05:59<03:06,  1.07s/it]"
     ]
    },
    {
     "name": "stdout",
     "output_type": "stream",
     "text": [
      "Buscando dados para o deputado Marcos Pereira (ID 204506)...\n"
     ]
    },
    {
     "name": "stderr",
     "output_type": "stream",
     "text": [
      "Processando deputados:  66%|█████████████████████████████████████▋                   | 339/513 [06:00<03:07,  1.07s/it]"
     ]
    },
    {
     "name": "stdout",
     "output_type": "stream",
     "text": [
      "Buscando dados para o deputado Marcos Pollon (ID 220547)...\n"
     ]
    },
    {
     "name": "stderr",
     "output_type": "stream",
     "text": [
      "Processando deputados:  66%|█████████████████████████████████████▊                   | 340/513 [06:02<03:06,  1.08s/it]"
     ]
    },
    {
     "name": "stdout",
     "output_type": "stream",
     "text": [
      "Buscando dados para o deputado Marcos Soares (ID 178943)...\n"
     ]
    },
    {
     "name": "stderr",
     "output_type": "stream",
     "text": [
      "Processando deputados:  66%|█████████████████████████████████████▉                   | 341/513 [06:03<03:07,  1.09s/it]"
     ]
    },
    {
     "name": "stdout",
     "output_type": "stream",
     "text": [
      "Buscando dados para o deputado Marcos Tavares (ID 220604)...\n"
     ]
    },
    {
     "name": "stderr",
     "output_type": "stream",
     "text": [
      "Processando deputados:  67%|██████████████████████████████████████                   | 342/513 [06:04<03:05,  1.08s/it]"
     ]
    },
    {
     "name": "stdout",
     "output_type": "stream",
     "text": [
      "Buscando dados para o deputado Maria Arraes (ID 220668)...\n"
     ]
    },
    {
     "name": "stderr",
     "output_type": "stream",
     "text": [
      "Processando deputados:  67%|██████████████████████████████████████                   | 343/513 [06:05<03:02,  1.07s/it]"
     ]
    },
    {
     "name": "stdout",
     "output_type": "stream",
     "text": [
      "Buscando dados para o deputado Maria do Rosário (ID 74398)...\n"
     ]
    },
    {
     "name": "stderr",
     "output_type": "stream",
     "text": [
      "Processando deputados:  67%|██████████████████████████████████████▏                  | 344/513 [06:06<03:13,  1.15s/it]"
     ]
    },
    {
     "name": "stdout",
     "output_type": "stream",
     "text": [
      "Buscando dados para o deputado Maria Rosas (ID 204540)...\n"
     ]
    },
    {
     "name": "stderr",
     "output_type": "stream",
     "text": [
      "Processando deputados:  67%|██████████████████████████████████████▎                  | 345/513 [06:07<03:06,  1.11s/it]"
     ]
    },
    {
     "name": "stdout",
     "output_type": "stream",
     "text": [
      "Buscando dados para o deputado Mario Frias (ID 220655)...\n"
     ]
    },
    {
     "name": "stderr",
     "output_type": "stream",
     "text": [
      "Processando deputados:  67%|██████████████████████████████████████▍                  | 346/513 [06:08<02:59,  1.08s/it]"
     ]
    },
    {
     "name": "stdout",
     "output_type": "stream",
     "text": [
      "Buscando dados para o deputado Mário Heringer (ID 74158)...\n"
     ]
    },
    {
     "name": "stderr",
     "output_type": "stream",
     "text": [
      "Processando deputados:  68%|██████████████████████████████████████▌                  | 347/513 [06:09<03:04,  1.11s/it]"
     ]
    },
    {
     "name": "stdout",
     "output_type": "stream",
     "text": [
      "Buscando dados para o deputado Mário Negromonte Jr. (ID 178858)...\n"
     ]
    },
    {
     "name": "stderr",
     "output_type": "stream",
     "text": [
      "Processando deputados:  68%|██████████████████████████████████████▋                  | 348/513 [06:10<03:05,  1.13s/it]"
     ]
    },
    {
     "name": "stdout",
     "output_type": "stream",
     "text": [
      "Buscando dados para o deputado Marreca Filho (ID 204566)...\n"
     ]
    },
    {
     "name": "stderr",
     "output_type": "stream",
     "text": [
      "Processando deputados:  68%|██████████████████████████████████████▊                  | 349/513 [06:12<03:00,  1.10s/it]"
     ]
    },
    {
     "name": "stdout",
     "output_type": "stream",
     "text": [
      "Buscando dados para o deputado Marussa Boldrin (ID 220572)...\n"
     ]
    },
    {
     "name": "stderr",
     "output_type": "stream",
     "text": [
      "Processando deputados:  68%|██████████████████████████████████████▉                  | 350/513 [06:13<02:58,  1.09s/it]"
     ]
    },
    {
     "name": "stdout",
     "output_type": "stream",
     "text": [
      "Buscando dados para o deputado Marx Beltrão (ID 178843)...\n"
     ]
    },
    {
     "name": "stderr",
     "output_type": "stream",
     "text": [
      "Processando deputados:  68%|███████████████████████████████████████                  | 351/513 [06:14<02:54,  1.08s/it]"
     ]
    },
    {
     "name": "stdout",
     "output_type": "stream",
     "text": [
      "Buscando dados para o deputado Matheus Noronha (ID 220661)...\n"
     ]
    },
    {
     "name": "stderr",
     "output_type": "stream",
     "text": [
      "Processando deputados:  69%|███████████████████████████████████████                  | 352/513 [06:15<02:53,  1.08s/it]"
     ]
    },
    {
     "name": "stdout",
     "output_type": "stream",
     "text": [
      "Buscando dados para o deputado Maurício Carvalho (ID 220609)...\n"
     ]
    },
    {
     "name": "stderr",
     "output_type": "stream",
     "text": [
      "Processando deputados:  69%|███████████████████████████████████████▏                 | 353/513 [06:16<02:48,  1.05s/it]"
     ]
    },
    {
     "name": "stdout",
     "output_type": "stream",
     "text": [
      "Buscando dados para o deputado Mauricio do Vôlei (ID 220628)...\n"
     ]
    },
    {
     "name": "stderr",
     "output_type": "stream",
     "text": [
      "Processando deputados:  69%|███████████████████████████████████████▎                 | 354/513 [06:17<02:47,  1.06s/it]"
     ]
    },
    {
     "name": "stdout",
     "output_type": "stream",
     "text": [
      "Buscando dados para o deputado Mauricio Marcon (ID 220550)...\n"
     ]
    },
    {
     "name": "stderr",
     "output_type": "stream",
     "text": [
      "Processando deputados:  69%|███████████████████████████████████████▍                 | 355/513 [06:18<02:50,  1.08s/it]"
     ]
    },
    {
     "name": "stdout",
     "output_type": "stream",
     "text": [
      "Buscando dados para o deputado Mauricio Neves (ID 220647)...\n"
     ]
    },
    {
     "name": "stderr",
     "output_type": "stream",
     "text": [
      "Processando deputados:  69%|███████████████████████████████████████▌                 | 356/513 [06:19<02:45,  1.05s/it]"
     ]
    },
    {
     "name": "stdout",
     "output_type": "stream",
     "text": [
      "Buscando dados para o deputado Mauro Benevides Filho (ID 204486)...\n"
     ]
    },
    {
     "name": "stderr",
     "output_type": "stream",
     "text": [
      "Processando deputados:  70%|███████████████████████████████████████▋                 | 357/513 [06:20<02:43,  1.05s/it]"
     ]
    },
    {
     "name": "stdout",
     "output_type": "stream",
     "text": [
      "Buscando dados para o deputado Max Lemos (ID 220607)...\n"
     ]
    },
    {
     "name": "stderr",
     "output_type": "stream",
     "text": [
      "Processando deputados:  70%|███████████████████████████████████████▊                 | 358/513 [06:21<02:39,  1.03s/it]"
     ]
    },
    {
     "name": "stdout",
     "output_type": "stream",
     "text": [
      "Buscando dados para o deputado Meire Serafim (ID 220591)...\n"
     ]
    },
    {
     "name": "stderr",
     "output_type": "stream",
     "text": [
      "Processando deputados:  70%|███████████████████████████████████████▉                 | 359/513 [06:22<02:39,  1.04s/it]"
     ]
    },
    {
     "name": "stdout",
     "output_type": "stream",
     "text": [
      "Buscando dados para o deputado Mendonça Filho (ID 74428)...\n"
     ]
    },
    {
     "name": "stderr",
     "output_type": "stream",
     "text": [
      "Processando deputados:  70%|████████████████████████████████████████                 | 360/513 [06:23<02:44,  1.08s/it]"
     ]
    },
    {
     "name": "stdout",
     "output_type": "stream",
     "text": [
      "Buscando dados para o deputado Merlong Solano (ID 188097)...\n"
     ]
    },
    {
     "name": "stderr",
     "output_type": "stream",
     "text": [
      "Processando deputados:  70%|████████████████████████████████████████                 | 361/513 [06:24<02:40,  1.06s/it]"
     ]
    },
    {
     "name": "stdout",
     "output_type": "stream",
     "text": [
      "Buscando dados para o deputado Mersinho Lucena (ID 220585)...\n"
     ]
    },
    {
     "name": "stderr",
     "output_type": "stream",
     "text": [
      "Processando deputados:  71%|████████████████████████████████████████▏                | 362/513 [06:25<02:35,  1.03s/it]"
     ]
    },
    {
     "name": "stdout",
     "output_type": "stream",
     "text": [
      "Buscando dados para o deputado Messias Donato (ID 220530)...\n"
     ]
    },
    {
     "name": "stderr",
     "output_type": "stream",
     "text": [
      "Processando deputados:  71%|████████████████████████████████████████▎                | 363/513 [06:26<02:31,  1.01s/it]"
     ]
    },
    {
     "name": "stdout",
     "output_type": "stream",
     "text": [
      "Buscando dados para o deputado Miguel Ângelo (ID 171786)...\n"
     ]
    },
    {
     "name": "stderr",
     "output_type": "stream",
     "text": [
      "Processando deputados:  71%|████████████████████████████████████████▍                | 364/513 [06:27<02:31,  1.02s/it]"
     ]
    },
    {
     "name": "stdout",
     "output_type": "stream",
     "text": [
      "Buscando dados para o deputado Miguel Lombardi (ID 178985)...\n"
     ]
    },
    {
     "name": "stderr",
     "output_type": "stream",
     "text": [
      "Processando deputados:  71%|████████████████████████████████████████▌                | 365/513 [06:28<02:37,  1.06s/it]"
     ]
    },
    {
     "name": "stdout",
     "output_type": "stream",
     "text": [
      "Buscando dados para o deputado Misael Varella (ID 178895)...\n"
     ]
    },
    {
     "name": "stderr",
     "output_type": "stream",
     "text": [
      "Processando deputados:  71%|████████████████████████████████████████▋                | 366/513 [06:29<02:38,  1.08s/it]"
     ]
    },
    {
     "name": "stdout",
     "output_type": "stream",
     "text": [
      "Buscando dados para o deputado Moses Rodrigues (ID 178997)...\n"
     ]
    },
    {
     "name": "stderr",
     "output_type": "stream",
     "text": [
      "Processando deputados:  72%|████████████████████████████████████████▊                | 367/513 [06:30<02:36,  1.07s/it]"
     ]
    },
    {
     "name": "stdout",
     "output_type": "stream",
     "text": [
      "Buscando dados para o deputado Murillo Gouvea (ID 220617)...\n"
     ]
    },
    {
     "name": "stderr",
     "output_type": "stream",
     "text": [
      "Processando deputados:  72%|████████████████████████████████████████▉                | 368/513 [06:31<02:30,  1.04s/it]"
     ]
    },
    {
     "name": "stdout",
     "output_type": "stream",
     "text": [
      "Buscando dados para o deputado Murilo Galdino (ID 220584)...\n"
     ]
    },
    {
     "name": "stderr",
     "output_type": "stream",
     "text": [
      "Processando deputados:  72%|█████████████████████████████████████████                | 369/513 [06:32<02:27,  1.02s/it]"
     ]
    },
    {
     "name": "stdout",
     "output_type": "stream",
     "text": [
      "Buscando dados para o deputado Natália Bonavides (ID 204453)...\n"
     ]
    },
    {
     "name": "stderr",
     "output_type": "stream",
     "text": [
      "Processando deputados:  72%|█████████████████████████████████████████                | 370/513 [06:33<02:27,  1.03s/it]"
     ]
    },
    {
     "name": "stdout",
     "output_type": "stream",
     "text": [
      "Buscando dados para o deputado Nelson Barbudo (ID 204449)...\n"
     ]
    },
    {
     "name": "stderr",
     "output_type": "stream",
     "text": [
      "Processando deputados:  72%|█████████████████████████████████████████▏               | 371/513 [06:35<02:25,  1.03s/it]"
     ]
    },
    {
     "name": "stdout",
     "output_type": "stream",
     "text": [
      "Buscando dados para o deputado Nely Aquino (ID 220622)...\n"
     ]
    },
    {
     "name": "stderr",
     "output_type": "stream",
     "text": [
      "Processando deputados:  73%|█████████████████████████████████████████▎               | 372/513 [06:35<02:22,  1.01s/it]"
     ]
    },
    {
     "name": "stdout",
     "output_type": "stream",
     "text": [
      "Buscando dados para o deputado Neto Carletto (ID 220703)...\n"
     ]
    },
    {
     "name": "stderr",
     "output_type": "stream",
     "text": [
      "Processando deputados:  73%|█████████████████████████████████████████▍               | 373/513 [06:36<02:20,  1.00s/it]"
     ]
    },
    {
     "name": "stdout",
     "output_type": "stream",
     "text": [
      "Buscando dados para o deputado Newton Cardoso Jr (ID 178896)...\n"
     ]
    },
    {
     "name": "stderr",
     "output_type": "stream",
     "text": [
      "Processando deputados:  73%|█████████████████████████████████████████▌               | 374/513 [06:38<02:22,  1.03s/it]"
     ]
    },
    {
     "name": "stdout",
     "output_type": "stream",
     "text": [
      "Buscando dados para o deputado Nicoletti (ID 204479)...\n"
     ]
    },
    {
     "name": "stderr",
     "output_type": "stream",
     "text": [
      "Processando deputados:  73%|█████████████████████████████████████████▋               | 375/513 [06:39<02:23,  1.04s/it]"
     ]
    },
    {
     "name": "stdout",
     "output_type": "stream",
     "text": [
      "Buscando dados para o deputado Nikolas Ferreira (ID 209787)...\n"
     ]
    },
    {
     "name": "stderr",
     "output_type": "stream",
     "text": [
      "Processando deputados:  73%|█████████████████████████████████████████▊               | 376/513 [06:40<02:21,  1.03s/it]"
     ]
    },
    {
     "name": "stdout",
     "output_type": "stream",
     "text": [
      "Buscando dados para o deputado Nilto Tatto (ID 178986)...\n"
     ]
    },
    {
     "name": "stderr",
     "output_type": "stream",
     "text": [
      "Processando deputados:  73%|█████████████████████████████████████████▉               | 377/513 [06:41<02:25,  1.07s/it]"
     ]
    },
    {
     "name": "stdout",
     "output_type": "stream",
     "text": [
      "Buscando dados para o deputado Nitinho (ID 227660)...\n"
     ]
    },
    {
     "name": "stderr",
     "output_type": "stream",
     "text": [
      "Processando deputados:  74%|██████████████████████████████████████████               | 378/513 [06:42<02:20,  1.04s/it]"
     ]
    },
    {
     "name": "stdout",
     "output_type": "stream",
     "text": [
      "Buscando dados para o deputado Odair Cunha (ID 74159)...\n"
     ]
    },
    {
     "name": "stderr",
     "output_type": "stream",
     "text": [
      "Processando deputados:  74%|██████████████████████████████████████████               | 379/513 [06:43<02:24,  1.08s/it]"
     ]
    },
    {
     "name": "stdout",
     "output_type": "stream",
     "text": [
      "Buscando dados para o deputado Olival Marques (ID 204498)...\n"
     ]
    },
    {
     "name": "stderr",
     "output_type": "stream",
     "text": [
      "Processando deputados:  74%|██████████████████████████████████████████▏              | 380/513 [06:44<02:20,  1.06s/it]"
     ]
    },
    {
     "name": "stdout",
     "output_type": "stream",
     "text": [
      "Buscando dados para o deputado Orlando Silva (ID 178987)...\n"
     ]
    },
    {
     "name": "stderr",
     "output_type": "stream",
     "text": [
      "Processando deputados:  74%|██████████████████████████████████████████▎              | 381/513 [06:45<02:22,  1.08s/it]"
     ]
    },
    {
     "name": "stdout",
     "output_type": "stream",
     "text": [
      "Buscando dados para o deputado Osmar Terra (ID 73692)...\n"
     ]
    },
    {
     "name": "stderr",
     "output_type": "stream",
     "text": [
      "Processando deputados:  74%|██████████████████████████████████████████▍              | 382/513 [06:46<02:25,  1.11s/it]"
     ]
    },
    {
     "name": "stdout",
     "output_type": "stream",
     "text": [
      "Buscando dados para o deputado Ossesio Silva (ID 204422)...\n"
     ]
    },
    {
     "name": "stderr",
     "output_type": "stream",
     "text": [
      "Processando deputados:  75%|██████████████████████████████████████████▌              | 383/513 [06:47<02:26,  1.13s/it]"
     ]
    },
    {
     "name": "stdout",
     "output_type": "stream",
     "text": [
      "Buscando dados para o deputado Otoni de Paula (ID 204441)...\n"
     ]
    },
    {
     "name": "stderr",
     "output_type": "stream",
     "text": [
      "Processando deputados:  75%|██████████████████████████████████████████▋              | 384/513 [06:48<02:22,  1.10s/it]"
     ]
    },
    {
     "name": "stdout",
     "output_type": "stream",
     "text": [
      "Buscando dados para o deputado Otto Alencar Filho (ID 204573)...\n"
     ]
    },
    {
     "name": "stderr",
     "output_type": "stream",
     "text": [
      "Processando deputados:  75%|██████████████████████████████████████████▊              | 385/513 [06:49<02:17,  1.08s/it]"
     ]
    },
    {
     "name": "stdout",
     "output_type": "stream",
     "text": [
      "Buscando dados para o deputado Padovani (ID 220706)...\n"
     ]
    },
    {
     "name": "stderr",
     "output_type": "stream",
     "text": [
      "Processando deputados:  75%|██████████████████████████████████████████▉              | 386/513 [06:50<02:13,  1.05s/it]"
     ]
    },
    {
     "name": "stdout",
     "output_type": "stream",
     "text": [
      "Buscando dados para o deputado Padre João (ID 160556)...\n"
     ]
    },
    {
     "name": "stderr",
     "output_type": "stream",
     "text": [
      "Processando deputados:  75%|███████████████████████████████████████████              | 387/513 [06:52<02:18,  1.10s/it]"
     ]
    },
    {
     "name": "stdout",
     "output_type": "stream",
     "text": [
      "Buscando dados para o deputado Pastor Claudio Mariano (ID 230762)...\n"
     ]
    },
    {
     "name": "stderr",
     "output_type": "stream",
     "text": [
      "Processando deputados:  76%|███████████████████████████████████████████              | 388/513 [06:53<02:15,  1.09s/it]"
     ]
    },
    {
     "name": "stdout",
     "output_type": "stream",
     "text": [
      "Buscando dados para o deputado Pastor Diniz (ID 180214)...\n"
     ]
    },
    {
     "name": "stderr",
     "output_type": "stream",
     "text": [
      "Processando deputados:  76%|███████████████████████████████████████████▏             | 389/513 [06:54<02:11,  1.06s/it]"
     ]
    },
    {
     "name": "stdout",
     "output_type": "stream",
     "text": [
      "Buscando dados para o deputado Pastor Eurico (ID 160642)...\n"
     ]
    },
    {
     "name": "stderr",
     "output_type": "stream",
     "text": [
      "Processando deputados:  76%|███████████████████████████████████████████▎             | 390/513 [06:55<02:16,  1.11s/it]"
     ]
    },
    {
     "name": "stdout",
     "output_type": "stream",
     "text": [
      "Buscando dados para o deputado Pastor Gil (ID 204570)...\n"
     ]
    },
    {
     "name": "stderr",
     "output_type": "stream",
     "text": [
      "Processando deputados:  76%|███████████████████████████████████████████▍             | 391/513 [06:56<02:12,  1.09s/it]"
     ]
    },
    {
     "name": "stdout",
     "output_type": "stream",
     "text": [
      "Buscando dados para o deputado Pastor Henrique Vieira (ID 220615)...\n"
     ]
    },
    {
     "name": "stderr",
     "output_type": "stream",
     "text": [
      "Processando deputados:  76%|███████████████████████████████████████████▌             | 392/513 [06:57<02:09,  1.07s/it]"
     ]
    },
    {
     "name": "stdout",
     "output_type": "stream",
     "text": [
      "Buscando dados para o deputado Pastor Sargento Isidório (ID 204553)...\n"
     ]
    },
    {
     "name": "stderr",
     "output_type": "stream",
     "text": [
      "Processando deputados:  77%|███████████████████████████████████████████▋             | 393/513 [06:58<02:05,  1.05s/it]"
     ]
    },
    {
     "name": "stdout",
     "output_type": "stream",
     "text": [
      "Buscando dados para o deputado Patrus Ananias (ID 74160)...\n"
     ]
    },
    {
     "name": "stderr",
     "output_type": "stream",
     "text": [
      "Processando deputados:  77%|███████████████████████████████████████████▊             | 394/513 [06:59<02:08,  1.08s/it]"
     ]
    },
    {
     "name": "stdout",
     "output_type": "stream",
     "text": [
      "Buscando dados para o deputado Pauderney Avelino (ID 74095)...\n"
     ]
    },
    {
     "name": "stderr",
     "output_type": "stream",
     "text": [
      "Processando deputados:  77%|███████████████████████████████████████████▉             | 395/513 [07:00<02:08,  1.09s/it]"
     ]
    },
    {
     "name": "stdout",
     "output_type": "stream",
     "text": [
      "Buscando dados para o deputado Paulão (ID 171617)...\n"
     ]
    },
    {
     "name": "stderr",
     "output_type": "stream",
     "text": [
      "Processando deputados:  77%|████████████████████████████████████████████             | 396/513 [07:01<02:10,  1.11s/it]"
     ]
    },
    {
     "name": "stdout",
     "output_type": "stream",
     "text": [
      "Buscando dados para o deputado Paulinho da Força (ID 141518)...\n"
     ]
    },
    {
     "name": "stderr",
     "output_type": "stream",
     "text": [
      "Processando deputados:  77%|████████████████████████████████████████████             | 397/513 [07:03<02:11,  1.13s/it]"
     ]
    },
    {
     "name": "stdout",
     "output_type": "stream",
     "text": [
      "Buscando dados para o deputado Paulo Abi-Ackel (ID 141516)...\n"
     ]
    },
    {
     "name": "stderr",
     "output_type": "stream",
     "text": [
      "Processando deputados:  78%|████████████████████████████████████████████▏            | 398/513 [07:04<02:14,  1.17s/it]"
     ]
    },
    {
     "name": "stdout",
     "output_type": "stream",
     "text": [
      "Buscando dados para o deputado Paulo Alexandre Barbosa (ID 220650)...\n"
     ]
    },
    {
     "name": "stderr",
     "output_type": "stream",
     "text": [
      "Processando deputados:  78%|████████████████████████████████████████████▎            | 399/513 [07:05<02:09,  1.14s/it]"
     ]
    },
    {
     "name": "stdout",
     "output_type": "stream",
     "text": [
      "Buscando dados para o deputado Paulo Azi (ID 178860)...\n"
     ]
    },
    {
     "name": "stderr",
     "output_type": "stream",
     "text": [
      "Processando deputados:  78%|████████████████████████████████████████████▍            | 400/513 [07:06<02:08,  1.14s/it]"
     ]
    },
    {
     "name": "stdout",
     "output_type": "stream",
     "text": [
      "Buscando dados para o deputado Paulo Folletto (ID 160517)...\n"
     ]
    },
    {
     "name": "stderr",
     "output_type": "stream",
     "text": [
      "Processando deputados:  78%|████████████████████████████████████████████▌            | 401/513 [07:07<02:06,  1.13s/it]"
     ]
    },
    {
     "name": "stdout",
     "output_type": "stream",
     "text": [
      "Buscando dados para o deputado Paulo Freire Costa (ID 160558)...\n"
     ]
    },
    {
     "name": "stderr",
     "output_type": "stream",
     "text": [
      "Processando deputados:  78%|████████████████████████████████████████████▋            | 402/513 [07:08<02:07,  1.15s/it]"
     ]
    },
    {
     "name": "stdout",
     "output_type": "stream",
     "text": [
      "Buscando dados para o deputado Paulo Guedes (ID 204492)...\n"
     ]
    },
    {
     "name": "stderr",
     "output_type": "stream",
     "text": [
      "Processando deputados:  79%|████████████████████████████████████████████▊            | 403/513 [07:09<02:04,  1.13s/it]"
     ]
    },
    {
     "name": "stdout",
     "output_type": "stream",
     "text": [
      "Buscando dados para o deputado Paulo Litro (ID 220685)...\n"
     ]
    },
    {
     "name": "stderr",
     "output_type": "stream",
     "text": [
      "Processando deputados:  79%|████████████████████████████████████████████▉            | 404/513 [07:11<01:59,  1.10s/it]"
     ]
    },
    {
     "name": "stdout",
     "output_type": "stream",
     "text": [
      "Buscando dados para o deputado Paulo Magalhães (ID 74574)...\n"
     ]
    },
    {
     "name": "stderr",
     "output_type": "stream",
     "text": [
      "Processando deputados:  79%|█████████████████████████████████████████████            | 405/513 [07:12<02:00,  1.12s/it]"
     ]
    },
    {
     "name": "stdout",
     "output_type": "stream",
     "text": [
      "Buscando dados para o deputado Paulo Pimenta (ID 74400)...\n"
     ]
    },
    {
     "name": "stderr",
     "output_type": "stream",
     "text": [
      "Processando deputados:  79%|█████████████████████████████████████████████            | 406/513 [07:13<02:00,  1.13s/it]"
     ]
    },
    {
     "name": "stdout",
     "output_type": "stream",
     "text": [
      "Buscando dados para o deputado Pedro Aihara (ID 220630)...\n"
     ]
    },
    {
     "name": "stderr",
     "output_type": "stream",
     "text": [
      "Processando deputados:  79%|█████████████████████████████████████████████▏           | 407/513 [07:14<01:58,  1.12s/it]"
     ]
    },
    {
     "name": "stdout",
     "output_type": "stream",
     "text": [
      "Buscando dados para o deputado Pedro Campos (ID 220667)...\n"
     ]
    },
    {
     "name": "stderr",
     "output_type": "stream",
     "text": [
      "Processando deputados:  80%|█████████████████████████████████████████████▎           | 408/513 [07:15<01:56,  1.11s/it]"
     ]
    },
    {
     "name": "stdout",
     "output_type": "stream",
     "text": [
      "Buscando dados para o deputado Pedro Lucas Fernandes (ID 122974)...\n"
     ]
    },
    {
     "name": "stderr",
     "output_type": "stream",
     "text": [
      "Processando deputados:  80%|█████████████████████████████████████████████▍           | 409/513 [07:16<01:55,  1.11s/it]"
     ]
    },
    {
     "name": "stdout",
     "output_type": "stream",
     "text": [
      "Buscando dados para o deputado Pedro Lupion (ID 204395)...\n"
     ]
    },
    {
     "name": "stderr",
     "output_type": "stream",
     "text": [
      "Processando deputados:  80%|█████████████████████████████████████████████▌           | 410/513 [07:17<01:54,  1.11s/it]"
     ]
    },
    {
     "name": "stdout",
     "output_type": "stream",
     "text": [
      "Buscando dados para o deputado Pedro Paulo (ID 122158)...\n"
     ]
    },
    {
     "name": "stderr",
     "output_type": "stream",
     "text": [
      "Processando deputados:  80%|█████████████████████████████████████████████▋           | 411/513 [07:18<01:53,  1.11s/it]"
     ]
    },
    {
     "name": "stdout",
     "output_type": "stream",
     "text": [
      "Buscando dados para o deputado Pedro Uczai (ID 160604)...\n"
     ]
    },
    {
     "name": "stderr",
     "output_type": "stream",
     "text": [
      "Processando deputados:  80%|█████████████████████████████████████████████▊           | 412/513 [07:20<01:56,  1.15s/it]"
     ]
    },
    {
     "name": "stdout",
     "output_type": "stream",
     "text": [
      "Buscando dados para o deputado Pedro Westphalen (ID 204406)...\n"
     ]
    },
    {
     "name": "stderr",
     "output_type": "stream",
     "text": [
      "Processando deputados:  81%|█████████████████████████████████████████████▉           | 413/513 [07:21<01:54,  1.14s/it]"
     ]
    },
    {
     "name": "stdout",
     "output_type": "stream",
     "text": [
      "Buscando dados para o deputado Pezenti (ID 161440)...\n"
     ]
    },
    {
     "name": "stderr",
     "output_type": "stream",
     "text": [
      "Processando deputados:  81%|██████████████████████████████████████████████           | 414/513 [07:22<01:50,  1.12s/it]"
     ]
    },
    {
     "name": "stdout",
     "output_type": "stream",
     "text": [
      "Buscando dados para o deputado Pinheirinho (ID 204524)...\n"
     ]
    },
    {
     "name": "stderr",
     "output_type": "stream",
     "text": [
      "Processando deputados:  81%|██████████████████████████████████████████████           | 415/513 [07:23<01:51,  1.13s/it]"
     ]
    },
    {
     "name": "stdout",
     "output_type": "stream",
     "text": [
      "Buscando dados para o deputado Pompeo de Mattos (ID 73486)...\n"
     ]
    },
    {
     "name": "stderr",
     "output_type": "stream",
     "text": [
      "Processando deputados:  81%|██████████████████████████████████████████████▏          | 416/513 [07:24<01:51,  1.15s/it]"
     ]
    },
    {
     "name": "stdout",
     "output_type": "stream",
     "text": [
      "Buscando dados para o deputado Pr. Marco Feliciano (ID 160601)...\n"
     ]
    },
    {
     "name": "stderr",
     "output_type": "stream",
     "text": [
      "Processando deputados:  81%|██████████████████████████████████████████████▎          | 417/513 [07:25<01:49,  1.14s/it]"
     ]
    },
    {
     "name": "stdout",
     "output_type": "stream",
     "text": [
      "Buscando dados para o deputado Prof. Reginaldo Veras (ID 220533)...\n"
     ]
    },
    {
     "name": "stderr",
     "output_type": "stream",
     "text": [
      "Processando deputados:  81%|██████████████████████████████████████████████▍          | 418/513 [07:26<01:43,  1.09s/it]"
     ]
    },
    {
     "name": "stdout",
     "output_type": "stream",
     "text": [
      "Buscando dados para o deputado Professor Alcides (ID 204390)...\n"
     ]
    },
    {
     "name": "stderr",
     "output_type": "stream",
     "text": [
      "Processando deputados:  82%|██████████████████████████████████████████████▌          | 419/513 [07:27<01:39,  1.06s/it]"
     ]
    },
    {
     "name": "stdout",
     "output_type": "stream",
     "text": [
      "Buscando dados para o deputado Professora Goreth (ID 220580)...\n"
     ]
    },
    {
     "name": "stderr",
     "output_type": "stream",
     "text": [
      "Processando deputados:  82%|██████████████████████████████████████████████▋          | 420/513 [07:28<01:38,  1.06s/it]"
     ]
    },
    {
     "name": "stdout",
     "output_type": "stream",
     "text": [
      "Buscando dados para o deputado Professora Luciene Cavalcante (ID 221338)...\n"
     ]
    },
    {
     "name": "stderr",
     "output_type": "stream",
     "text": [
      "Processando deputados:  82%|██████████████████████████████████████████████▊          | 421/513 [07:29<01:35,  1.04s/it]"
     ]
    },
    {
     "name": "stdout",
     "output_type": "stream",
     "text": [
      "Buscando dados para o deputado Rafael Brito (ID 220586)...\n"
     ]
    },
    {
     "name": "stderr",
     "output_type": "stream",
     "text": [
      "Processando deputados:  82%|██████████████████████████████████████████████▉          | 422/513 [07:30<01:33,  1.03s/it]"
     ]
    },
    {
     "name": "stdout",
     "output_type": "stream",
     "text": [
      "Buscando dados para o deputado Rafael Prudente (ID 220532)...\n"
     ]
    },
    {
     "name": "stderr",
     "output_type": "stream",
     "text": [
      "Processando deputados:  82%|███████████████████████████████████████████████          | 423/513 [07:31<01:31,  1.02s/it]"
     ]
    },
    {
     "name": "stdout",
     "output_type": "stream",
     "text": [
      "Buscando dados para o deputado Rafael Simoes (ID 220626)...\n"
     ]
    },
    {
     "name": "stderr",
     "output_type": "stream",
     "text": [
      "Processando deputados:  83%|███████████████████████████████████████████████          | 424/513 [07:32<01:30,  1.01s/it]"
     ]
    },
    {
     "name": "stdout",
     "output_type": "stream",
     "text": [
      "Buscando dados para o deputado Raimundo Costa (ID 204567)...\n"
     ]
    },
    {
     "name": "stderr",
     "output_type": "stream",
     "text": [
      "Processando deputados:  83%|███████████████████████████████████████████████▏         | 425/513 [07:33<01:32,  1.05s/it]"
     ]
    },
    {
     "name": "stdout",
     "output_type": "stream",
     "text": [
      "Buscando dados para o deputado Raimundo Santos (ID 74084)...\n"
     ]
    },
    {
     "name": "stderr",
     "output_type": "stream",
     "text": [
      "Processando deputados:  83%|███████████████████████████████████████████████▎         | 426/513 [07:34<01:31,  1.05s/it]"
     ]
    },
    {
     "name": "stdout",
     "output_type": "stream",
     "text": [
      "Buscando dados para o deputado Reginaldo Lopes (ID 74161)...\n"
     ]
    },
    {
     "name": "stderr",
     "output_type": "stream",
     "text": [
      "Processando deputados:  83%|███████████████████████████████████████████████▍         | 427/513 [07:36<01:33,  1.09s/it]"
     ]
    },
    {
     "name": "stdout",
     "output_type": "stream",
     "text": [
      "Buscando dados para o deputado Reimont (ID 220606)...\n"
     ]
    },
    {
     "name": "stderr",
     "output_type": "stream",
     "text": [
      "Processando deputados:  83%|███████████████████████████████████████████████▌         | 428/513 [07:37<01:30,  1.07s/it]"
     ]
    },
    {
     "name": "stdout",
     "output_type": "stream",
     "text": [
      "Buscando dados para o deputado Reinhold Stephanes (ID 205865)...\n"
     ]
    },
    {
     "name": "stderr",
     "output_type": "stream",
     "text": [
      "Processando deputados:  84%|███████████████████████████████████████████████▋         | 429/513 [07:38<01:31,  1.09s/it]"
     ]
    },
    {
     "name": "stdout",
     "output_type": "stream",
     "text": [
      "Buscando dados para o deputado Renata Abreu (ID 178989)...\n"
     ]
    },
    {
     "name": "stderr",
     "output_type": "stream",
     "text": [
      "Processando deputados:  84%|███████████████████████████████████████████████▊         | 430/513 [07:39<01:28,  1.07s/it]"
     ]
    },
    {
     "name": "stdout",
     "output_type": "stream",
     "text": [
      "Buscando dados para o deputado Renilce Nicodemos (ID 153423)...\n"
     ]
    },
    {
     "name": "stderr",
     "output_type": "stream",
     "text": [
      "Processando deputados:  84%|███████████████████████████████████████████████▉         | 431/513 [07:40<01:27,  1.07s/it]"
     ]
    },
    {
     "name": "stdout",
     "output_type": "stream",
     "text": [
      "Buscando dados para o deputado Renildo Calheiros (ID 73801)...\n"
     ]
    },
    {
     "name": "stderr",
     "output_type": "stream",
     "text": [
      "Processando deputados:  84%|████████████████████████████████████████████████         | 432/513 [07:41<01:27,  1.08s/it]"
     ]
    },
    {
     "name": "stdout",
     "output_type": "stream",
     "text": [
      "Buscando dados para o deputado Ribamar Silva (ID 175765)...\n"
     ]
    },
    {
     "name": "stderr",
     "output_type": "stream",
     "text": [
      "Processando deputados:  84%|████████████████████████████████████████████████         | 433/513 [07:42<01:25,  1.07s/it]"
     ]
    },
    {
     "name": "stdout",
     "output_type": "stream",
     "text": [
      "Buscando dados para o deputado Ricardo Ayres (ID 220543)...\n"
     ]
    },
    {
     "name": "stderr",
     "output_type": "stream",
     "text": [
      "Processando deputados:  85%|████████████████████████████████████████████████▏        | 434/513 [07:43<01:24,  1.07s/it]"
     ]
    },
    {
     "name": "stdout",
     "output_type": "stream",
     "text": [
      "Buscando dados para o deputado Ricardo Guidi (ID 204362)...\n"
     ]
    },
    {
     "name": "stderr",
     "output_type": "stream",
     "text": [
      "Processando deputados:  85%|████████████████████████████████████████████████▎        | 435/513 [07:44<01:23,  1.07s/it]"
     ]
    },
    {
     "name": "stdout",
     "output_type": "stream",
     "text": [
      "Buscando dados para o deputado Ricardo Maia (ID 220694)...\n"
     ]
    },
    {
     "name": "stderr",
     "output_type": "stream",
     "text": [
      "Processando deputados:  85%|████████████████████████████████████████████████▍        | 436/513 [07:45<01:20,  1.05s/it]"
     ]
    },
    {
     "name": "stdout",
     "output_type": "stream",
     "text": [
      "Buscando dados para o deputado Ricardo Salles (ID 220633)...\n"
     ]
    },
    {
     "name": "stderr",
     "output_type": "stream",
     "text": [
      "Processando deputados:  85%|████████████████████████████████████████████████▌        | 437/513 [07:46<01:18,  1.03s/it]"
     ]
    },
    {
     "name": "stdout",
     "output_type": "stream",
     "text": [
      "Buscando dados para o deputado Robério Monteiro (ID 204489)...\n"
     ]
    },
    {
     "name": "stderr",
     "output_type": "stream",
     "text": [
      "Processando deputados:  85%|████████████████████████████████████████████████▋        | 438/513 [07:47<01:16,  1.02s/it]"
     ]
    },
    {
     "name": "stdout",
     "output_type": "stream",
     "text": [
      "Buscando dados para o deputado Roberta Roma (ID 220693)...\n"
     ]
    },
    {
     "name": "stderr",
     "output_type": "stream",
     "text": [
      "Processando deputados:  86%|████████████████████████████████████████████████▊        | 439/513 [07:48<01:15,  1.02s/it]"
     ]
    },
    {
     "name": "stdout",
     "output_type": "stream",
     "text": [
      "Buscando dados para o deputado Roberto Duarte (ID 220588)...\n"
     ]
    },
    {
     "name": "stderr",
     "output_type": "stream",
     "text": [
      "Processando deputados:  86%|████████████████████████████████████████████████▉        | 440/513 [07:49<01:16,  1.05s/it]"
     ]
    },
    {
     "name": "stdout",
     "output_type": "stream",
     "text": [
      "Buscando dados para o deputado Roberto Monteiro Pai (ID 220613)...\n"
     ]
    },
    {
     "name": "stderr",
     "output_type": "stream",
     "text": [
      "Processando deputados:  86%|█████████████████████████████████████████████████        | 441/513 [07:50<01:17,  1.07s/it]"
     ]
    },
    {
     "name": "stdout",
     "output_type": "stream",
     "text": [
      "Buscando dados para o deputado Robinson Faria (ID 220624)...\n"
     ]
    },
    {
     "name": "stderr",
     "output_type": "stream",
     "text": [
      "Processando deputados:  86%|█████████████████████████████████████████████████        | 442/513 [07:51<01:15,  1.06s/it]"
     ]
    },
    {
     "name": "stdout",
     "output_type": "stream",
     "text": [
      "Buscando dados para o deputado Rodolfo Nogueira (ID 220546)...\n"
     ]
    },
    {
     "name": "stderr",
     "output_type": "stream",
     "text": [
      "Processando deputados:  86%|█████████████████████████████████████████████████▏       | 443/513 [07:52<01:13,  1.05s/it]"
     ]
    },
    {
     "name": "stdout",
     "output_type": "stream",
     "text": [
      "Buscando dados para o deputado Rodrigo da Zaeli (ID 230767)...\n"
     ]
    },
    {
     "name": "stderr",
     "output_type": "stream",
     "text": [
      "Processando deputados:  87%|█████████████████████████████████████████████████▎       | 444/513 [07:54<01:13,  1.07s/it]"
     ]
    },
    {
     "name": "stdout",
     "output_type": "stream",
     "text": [
      "Buscando dados para o deputado Rodrigo de Castro (ID 141531)...\n"
     ]
    },
    {
     "name": "stderr",
     "output_type": "stream",
     "text": [
      "Processando deputados:  87%|█████████████████████████████████████████████████▍       | 445/513 [07:55<01:14,  1.10s/it]"
     ]
    },
    {
     "name": "stdout",
     "output_type": "stream",
     "text": [
      "Buscando dados para o deputado Rodrigo Estacho (ID 223128)...\n"
     ]
    },
    {
     "name": "stderr",
     "output_type": "stream",
     "text": [
      "Processando deputados:  87%|█████████████████████████████████████████████████▌       | 446/513 [07:56<01:12,  1.08s/it]"
     ]
    },
    {
     "name": "stdout",
     "output_type": "stream",
     "text": [
      "Buscando dados para o deputado Rodrigo Gambale (ID 220641)...\n"
     ]
    },
    {
     "name": "stderr",
     "output_type": "stream",
     "text": [
      "Processando deputados:  87%|█████████████████████████████████████████████████▋       | 447/513 [07:57<01:10,  1.06s/it]"
     ]
    },
    {
     "name": "stdout",
     "output_type": "stream",
     "text": [
      "Buscando dados para o deputado Rodrigo Valadares (ID 165470)...\n"
     ]
    },
    {
     "name": "stderr",
     "output_type": "stream",
     "text": [
      "Processando deputados:  87%|█████████████████████████████████████████████████▊       | 448/513 [07:58<01:09,  1.06s/it]"
     ]
    },
    {
     "name": "stdout",
     "output_type": "stream",
     "text": [
      "Buscando dados para o deputado Rogéria Santos (ID 220695)...\n"
     ]
    },
    {
     "name": "stderr",
     "output_type": "stream",
     "text": [
      "Processando deputados:  88%|█████████████████████████████████████████████████▉       | 449/513 [07:59<01:07,  1.05s/it]"
     ]
    },
    {
     "name": "stdout",
     "output_type": "stream",
     "text": [
      "Buscando dados para o deputado Rogério Correia (ID 204480)...\n"
     ]
    },
    {
     "name": "stderr",
     "output_type": "stream",
     "text": [
      "Processando deputados:  88%|██████████████████████████████████████████████████       | 450/513 [08:00<01:07,  1.07s/it]"
     ]
    },
    {
     "name": "stdout",
     "output_type": "stream",
     "text": [
      "Buscando dados para o deputado Romero Rodrigues (ID 160629)...\n"
     ]
    },
    {
     "name": "stderr",
     "output_type": "stream",
     "text": [
      "Processando deputados:  88%|██████████████████████████████████████████████████       | 451/513 [08:01<01:06,  1.07s/it]"
     ]
    },
    {
     "name": "stdout",
     "output_type": "stream",
     "text": [
      "Buscando dados para o deputado Ronaldo Nogueira (ID 163321)...\n"
     ]
    },
    {
     "name": "stderr",
     "output_type": "stream",
     "text": [
      "Processando deputados:  88%|██████████████████████████████████████████████████▏      | 452/513 [08:02<01:05,  1.08s/it]"
     ]
    },
    {
     "name": "stdout",
     "output_type": "stream",
     "text": [
      "Buscando dados para o deputado Rosana Valle (ID 204525)...\n"
     ]
    },
    {
     "name": "stderr",
     "output_type": "stream",
     "text": [
      "Processando deputados:  88%|██████████████████████████████████████████████████▎      | 453/513 [08:03<01:04,  1.08s/it]"
     ]
    },
    {
     "name": "stdout",
     "output_type": "stream",
     "text": [
      "Buscando dados para o deputado Rosangela Moro (ID 220644)...\n"
     ]
    },
    {
     "name": "stderr",
     "output_type": "stream",
     "text": [
      "Processando deputados:  88%|██████████████████████████████████████████████████▍      | 454/513 [08:04<01:03,  1.07s/it]"
     ]
    },
    {
     "name": "stdout",
     "output_type": "stream",
     "text": [
      "Buscando dados para o deputado Rosângela Reis (ID 220620)...\n"
     ]
    },
    {
     "name": "stderr",
     "output_type": "stream",
     "text": [
      "Processando deputados:  89%|██████████████████████████████████████████████████▌      | 455/513 [08:05<01:00,  1.04s/it]"
     ]
    },
    {
     "name": "stdout",
     "output_type": "stream",
     "text": [
      "Buscando dados para o deputado Rubens Otoni (ID 74371)...\n"
     ]
    },
    {
     "name": "stderr",
     "output_type": "stream",
     "text": [
      "Processando deputados:  89%|██████████████████████████████████████████████████▋      | 456/513 [08:06<00:59,  1.05s/it]"
     ]
    },
    {
     "name": "stdout",
     "output_type": "stream",
     "text": [
      "Buscando dados para o deputado Rubens Pereira Júnior (ID 178887)...\n"
     ]
    },
    {
     "name": "stderr",
     "output_type": "stream",
     "text": [
      "Processando deputados:  89%|██████████████████████████████████████████████████▊      | 457/513 [08:07<00:58,  1.05s/it]"
     ]
    },
    {
     "name": "stdout",
     "output_type": "stream",
     "text": [
      "Buscando dados para o deputado Rui Falcão (ID 73604)...\n"
     ]
    },
    {
     "name": "stderr",
     "output_type": "stream",
     "text": [
      "Processando deputados:  89%|██████████████████████████████████████████████████▉      | 458/513 [08:08<00:57,  1.04s/it]"
     ]
    },
    {
     "name": "stdout",
     "output_type": "stream",
     "text": [
      "Buscando dados para o deputado Ruy Carneiro (ID 160635)...\n"
     ]
    },
    {
     "name": "stderr",
     "output_type": "stream",
     "text": [
      "Processando deputados:  89%|███████████████████████████████████████████████████      | 459/513 [08:10<00:58,  1.08s/it]"
     ]
    },
    {
     "name": "stdout",
     "output_type": "stream",
     "text": [
      "Buscando dados para o deputado Sâmia Bomfim (ID 204535)...\n"
     ]
    },
    {
     "name": "stderr",
     "output_type": "stream",
     "text": [
      "Processando deputados:  90%|███████████████████████████████████████████████████      | 460/513 [08:11<00:56,  1.07s/it]"
     ]
    },
    {
     "name": "stdout",
     "output_type": "stream",
     "text": [
      "Buscando dados para o deputado Samuel Viana (ID 220631)...\n"
     ]
    },
    {
     "name": "stderr",
     "output_type": "stream",
     "text": [
      "Processando deputados:  90%|███████████████████████████████████████████████████▏     | 461/513 [08:12<00:55,  1.06s/it]"
     ]
    },
    {
     "name": "stdout",
     "output_type": "stream",
     "text": [
      "Buscando dados para o deputado Sanderson (ID 204416)...\n"
     ]
    },
    {
     "name": "stderr",
     "output_type": "stream",
     "text": [
      "Processando deputados:  90%|███████████████████████████████████████████████████▎     | 462/513 [08:13<00:55,  1.08s/it]"
     ]
    },
    {
     "name": "stdout",
     "output_type": "stream",
     "text": [
      "Buscando dados para o deputado Sargento Fahur (ID 204387)...\n"
     ]
    },
    {
     "name": "stderr",
     "output_type": "stream",
     "text": [
      "Processando deputados:  90%|███████████████████████████████████████████████████▍     | 463/513 [08:14<00:53,  1.08s/it]"
     ]
    },
    {
     "name": "stdout",
     "output_type": "stream",
     "text": [
      "Buscando dados para o deputado Sargento Gonçalves (ID 220621)...\n"
     ]
    },
    {
     "name": "stderr",
     "output_type": "stream",
     "text": [
      "Processando deputados:  90%|███████████████████████████████████████████████████▌     | 464/513 [08:15<00:51,  1.05s/it]"
     ]
    },
    {
     "name": "stdout",
     "output_type": "stream",
     "text": [
      "Buscando dados para o deputado Sargento Portugal (ID 220618)...\n"
     ]
    },
    {
     "name": "stderr",
     "output_type": "stream",
     "text": [
      "Processando deputados:  91%|███████████████████████████████████████████████████▋     | 465/513 [08:19<01:30,  1.89s/it]"
     ]
    },
    {
     "name": "stdout",
     "output_type": "stream",
     "text": [
      "Buscando dados para o deputado Saulo Pedroso (ID 226837)...\n"
     ]
    },
    {
     "name": "stderr",
     "output_type": "stream",
     "text": [
      "Processando deputados:  91%|███████████████████████████████████████████████████▊     | 466/513 [08:20<01:16,  1.62s/it]"
     ]
    },
    {
     "name": "stdout",
     "output_type": "stream",
     "text": [
      "Buscando dados para o deputado Sergio Souza (ID 178933)...\n"
     ]
    },
    {
     "name": "stderr",
     "output_type": "stream",
     "text": [
      "Processando deputados:  91%|███████████████████████████████████████████████████▉     | 467/513 [08:21<01:08,  1.49s/it]"
     ]
    },
    {
     "name": "stdout",
     "output_type": "stream",
     "text": [
      "Buscando dados para o deputado Sidney Leite (ID 204557)...\n"
     ]
    },
    {
     "name": "stderr",
     "output_type": "stream",
     "text": [
      "Processando deputados:  91%|████████████████████████████████████████████████████     | 468/513 [08:22<01:00,  1.35s/it]"
     ]
    },
    {
     "name": "stdout",
     "output_type": "stream",
     "text": [
      "Buscando dados para o deputado Silas Câmara (ID 74356)...\n"
     ]
    },
    {
     "name": "stderr",
     "output_type": "stream",
     "text": [
      "Processando deputados:  91%|████████████████████████████████████████████████████     | 469/513 [08:23<00:55,  1.27s/it]"
     ]
    },
    {
     "name": "stdout",
     "output_type": "stream",
     "text": [
      "Buscando dados para o deputado Silvia Cristina (ID 204360)...\n"
     ]
    },
    {
     "name": "stderr",
     "output_type": "stream",
     "text": [
      "Processando deputados:  92%|████████████████████████████████████████████████████▏    | 470/513 [08:24<00:52,  1.22s/it]"
     ]
    },
    {
     "name": "stdout",
     "output_type": "stream",
     "text": [
      "Buscando dados para o deputado Silvia Waiãpi (ID 220579)...\n"
     ]
    },
    {
     "name": "stderr",
     "output_type": "stream",
     "text": [
      "Processando deputados:  92%|████████████████████████████████████████████████████▎    | 471/513 [08:25<00:50,  1.20s/it]"
     ]
    },
    {
     "name": "stdout",
     "output_type": "stream",
     "text": [
      "Buscando dados para o deputado Silvye Alves (ID 220569)...\n"
     ]
    },
    {
     "name": "stderr",
     "output_type": "stream",
     "text": [
      "Processando deputados:  92%|████████████████████████████████████████████████████▍    | 472/513 [08:26<00:47,  1.16s/it]"
     ]
    },
    {
     "name": "stdout",
     "output_type": "stream",
     "text": [
      "Buscando dados para o deputado Simone Marquetto (ID 220651)...\n"
     ]
    },
    {
     "name": "stderr",
     "output_type": "stream",
     "text": [
      "Processando deputados:  92%|████████████████████████████████████████████████████▌    | 473/513 [08:27<00:44,  1.11s/it]"
     ]
    },
    {
     "name": "stdout",
     "output_type": "stream",
     "text": [
      "Buscando dados para o deputado Socorro Neri (ID 104552)...\n"
     ]
    },
    {
     "name": "stderr",
     "output_type": "stream",
     "text": [
      "Processando deputados:  92%|████████████████████████████████████████████████████▋    | 474/513 [08:28<00:42,  1.08s/it]"
     ]
    },
    {
     "name": "stdout",
     "output_type": "stream",
     "text": [
      "Buscando dados para o deputado Sonize Barbosa (ID 220575)...\n"
     ]
    },
    {
     "name": "stderr",
     "output_type": "stream",
     "text": [
      "Processando deputados:  93%|████████████████████████████████████████████████████▊    | 475/513 [08:29<00:40,  1.07s/it]"
     ]
    },
    {
     "name": "stdout",
     "output_type": "stream",
     "text": [
      "Buscando dados para o deputado Soraya Santos (ID 178946)...\n"
     ]
    },
    {
     "name": "stderr",
     "output_type": "stream",
     "text": [
      "Processando deputados:  93%|████████████████████████████████████████████████████▉    | 476/513 [08:31<00:40,  1.10s/it]"
     ]
    },
    {
     "name": "stdout",
     "output_type": "stream",
     "text": [
      "Buscando dados para o deputado Sóstenes Cavalcante (ID 178947)...\n"
     ]
    },
    {
     "name": "stderr",
     "output_type": "stream",
     "text": [
      "Processando deputados:  93%|█████████████████████████████████████████████████████    | 477/513 [08:32<00:41,  1.15s/it]"
     ]
    },
    {
     "name": "stdout",
     "output_type": "stream",
     "text": [
      "Buscando dados para o deputado Stefano Aguiar (ID 92776)...\n"
     ]
    },
    {
     "name": "stderr",
     "output_type": "stream",
     "text": [
      "Processando deputados:  93%|█████████████████████████████████████████████████████    | 478/513 [08:33<00:39,  1.14s/it]"
     ]
    },
    {
     "name": "stdout",
     "output_type": "stream",
     "text": [
      "Buscando dados para o deputado Tabata Amaral (ID 204534)...\n"
     ]
    },
    {
     "name": "stderr",
     "output_type": "stream",
     "text": [
      "Processando deputados:  93%|█████████████████████████████████████████████████████▏   | 479/513 [08:34<00:38,  1.14s/it]"
     ]
    },
    {
     "name": "stdout",
     "output_type": "stream",
     "text": [
      "Buscando dados para o deputado Tadeu Veneri (ID 220682)...\n"
     ]
    },
    {
     "name": "stderr",
     "output_type": "stream",
     "text": [
      "Processando deputados:  94%|█████████████████████████████████████████████████████▎   | 480/513 [08:35<00:37,  1.13s/it]"
     ]
    },
    {
     "name": "stdout",
     "output_type": "stream",
     "text": [
      "Buscando dados para o deputado Talíria Petrone (ID 204464)...\n"
     ]
    },
    {
     "name": "stderr",
     "output_type": "stream",
     "text": [
      "Processando deputados:  94%|█████████████████████████████████████████████████████▍   | 481/513 [08:36<00:35,  1.11s/it]"
     ]
    },
    {
     "name": "stdout",
     "output_type": "stream",
     "text": [
      "Buscando dados para o deputado Tarcísio Motta (ID 220598)...\n"
     ]
    },
    {
     "name": "stderr",
     "output_type": "stream",
     "text": [
      "Processando deputados:  94%|█████████████████████████████████████████████████████▌   | 482/513 [08:37<00:34,  1.10s/it]"
     ]
    },
    {
     "name": "stdout",
     "output_type": "stream",
     "text": [
      "Buscando dados para o deputado Thiago de Joaldo (ID 220560)...\n"
     ]
    },
    {
     "name": "stderr",
     "output_type": "stream",
     "text": [
      "Processando deputados:  94%|█████████████████████████████████████████████████████▋   | 483/513 [08:38<00:32,  1.09s/it]"
     ]
    },
    {
     "name": "stdout",
     "output_type": "stream",
     "text": [
      "Buscando dados para o deputado Thiago Flores (ID 220597)...\n"
     ]
    },
    {
     "name": "stderr",
     "output_type": "stream",
     "text": [
      "Processando deputados:  94%|█████████████████████████████████████████████████████▊   | 484/513 [08:39<00:31,  1.07s/it]"
     ]
    },
    {
     "name": "stdout",
     "output_type": "stream",
     "text": [
      "Buscando dados para o deputado Tião Medeiros (ID 220684)...\n"
     ]
    },
    {
     "name": "stderr",
     "output_type": "stream",
     "text": [
      "Processando deputados:  95%|█████████████████████████████████████████████████████▉   | 485/513 [08:40<00:29,  1.07s/it]"
     ]
    },
    {
     "name": "stdout",
     "output_type": "stream",
     "text": [
      "Buscando dados para o deputado Tiririca (ID 160976)...\n"
     ]
    },
    {
     "name": "stderr",
     "output_type": "stream",
     "text": [
      "Processando deputados:  95%|██████████████████████████████████████████████████████   | 486/513 [08:42<00:29,  1.09s/it]"
     ]
    },
    {
     "name": "stdout",
     "output_type": "stream",
     "text": [
      "Buscando dados para o deputado Toninho Wandscheer (ID 178934)...\n"
     ]
    },
    {
     "name": "stderr",
     "output_type": "stream",
     "text": [
      "Processando deputados:  95%|██████████████████████████████████████████████████████   | 487/513 [08:43<00:29,  1.13s/it]"
     ]
    },
    {
     "name": "stdout",
     "output_type": "stream",
     "text": [
      "Buscando dados para o deputado Túlio Gadêlha (ID 157130)...\n"
     ]
    },
    {
     "name": "stderr",
     "output_type": "stream",
     "text": [
      "Processando deputados:  95%|██████████████████████████████████████████████████████▏  | 488/513 [08:44<00:28,  1.14s/it]"
     ]
    },
    {
     "name": "stdout",
     "output_type": "stream",
     "text": [
      "Buscando dados para o deputado Valmir Assunção (ID 160610)...\n"
     ]
    },
    {
     "name": "stderr",
     "output_type": "stream",
     "text": [
      "Processando deputados:  95%|██████████████████████████████████████████████████████▎  | 489/513 [08:45<00:28,  1.17s/it]"
     ]
    },
    {
     "name": "stdout",
     "output_type": "stream",
     "text": [
      "Buscando dados para o deputado Vander Loubet (ID 74376)...\n"
     ]
    },
    {
     "name": "stderr",
     "output_type": "stream",
     "text": [
      "Processando deputados:  96%|██████████████████████████████████████████████████████▍  | 490/513 [08:47<00:28,  1.22s/it]"
     ]
    },
    {
     "name": "stdout",
     "output_type": "stream",
     "text": [
      "Buscando dados para o deputado Vermelho (ID 204396)...\n"
     ]
    },
    {
     "name": "stderr",
     "output_type": "stream",
     "text": [
      "Processando deputados:  96%|██████████████████████████████████████████████████████▌  | 491/513 [08:48<00:26,  1.20s/it]"
     ]
    },
    {
     "name": "stdout",
     "output_type": "stream",
     "text": [
      "Buscando dados para o deputado Vicentinho (ID 74283)...\n"
     ]
    },
    {
     "name": "stderr",
     "output_type": "stream",
     "text": [
      "Processando deputados:  96%|██████████████████████████████████████████████████████▋  | 492/513 [08:49<00:25,  1.21s/it]"
     ]
    },
    {
     "name": "stdout",
     "output_type": "stream",
     "text": [
      "Buscando dados para o deputado Vicentinho Júnior (ID 137070)...\n"
     ]
    },
    {
     "name": "stderr",
     "output_type": "stream",
     "text": [
      "Processando deputados:  96%|██████████████████████████████████████████████████████▊  | 493/513 [08:50<00:23,  1.15s/it]"
     ]
    },
    {
     "name": "stdout",
     "output_type": "stream",
     "text": [
      "Buscando dados para o deputado Vinicius Carvalho (ID 141555)...\n"
     ]
    },
    {
     "name": "stderr",
     "output_type": "stream",
     "text": [
      "Processando deputados:  96%|██████████████████████████████████████████████████████▉  | 494/513 [08:51<00:22,  1.17s/it]"
     ]
    },
    {
     "name": "stdout",
     "output_type": "stream",
     "text": [
      "Buscando dados para o deputado Vinicius Gurgel (ID 160591)...\n"
     ]
    },
    {
     "name": "stderr",
     "output_type": "stream",
     "text": [
      "Processando deputados:  96%|███████████████████████████████████████████████████████  | 495/513 [08:52<00:20,  1.15s/it]"
     ]
    },
    {
     "name": "stdout",
     "output_type": "stream",
     "text": [
      "Buscando dados para o deputado Vitor Lippi (ID 178992)...\n"
     ]
    },
    {
     "name": "stderr",
     "output_type": "stream",
     "text": [
      "Processando deputados:  97%|███████████████████████████████████████████████████████  | 496/513 [08:54<00:20,  1.18s/it]"
     ]
    },
    {
     "name": "stdout",
     "output_type": "stream",
     "text": [
      "Buscando dados para o deputado Waldemar Oliveira (ID 91228)...\n"
     ]
    },
    {
     "name": "stderr",
     "output_type": "stream",
     "text": [
      "Processando deputados:  97%|███████████████████████████████████████████████████████▏ | 497/513 [08:55<00:18,  1.14s/it]"
     ]
    },
    {
     "name": "stdout",
     "output_type": "stream",
     "text": [
      "Buscando dados para o deputado Waldenor Pereira (ID 160569)...\n"
     ]
    },
    {
     "name": "stderr",
     "output_type": "stream",
     "text": [
      "Processando deputados:  97%|███████████████████████████████████████████████████████▎ | 498/513 [08:56<00:17,  1.14s/it]"
     ]
    },
    {
     "name": "stdout",
     "output_type": "stream",
     "text": [
      "Buscando dados para o deputado Weliton Prado (ID 160518)...\n"
     ]
    },
    {
     "name": "stderr",
     "output_type": "stream",
     "text": [
      "Processando deputados:  97%|███████████████████████████████████████████████████████▍ | 499/513 [08:57<00:16,  1.16s/it]"
     ]
    },
    {
     "name": "stdout",
     "output_type": "stream",
     "text": [
      "Buscando dados para o deputado Wellington Roberto (ID 74043)...\n"
     ]
    },
    {
     "name": "stderr",
     "output_type": "stream",
     "text": [
      "Processando deputados:  97%|███████████████████████████████████████████████████████▌ | 500/513 [08:58<00:15,  1.18s/it]"
     ]
    },
    {
     "name": "stdout",
     "output_type": "stream",
     "text": [
      "Buscando dados para o deputado Welter (ID 224333)...\n"
     ]
    },
    {
     "name": "stderr",
     "output_type": "stream",
     "text": [
      "Processando deputados:  98%|███████████████████████████████████████████████████████▋ | 501/513 [08:59<00:13,  1.14s/it]"
     ]
    },
    {
     "name": "stdout",
     "output_type": "stream",
     "text": [
      "Buscando dados para o deputado Wilson Santiago (ID 74044)...\n"
     ]
    },
    {
     "name": "stderr",
     "output_type": "stream",
     "text": [
      "Processando deputados:  98%|███████████████████████████████████████████████████████▊ | 502/513 [09:00<00:12,  1.13s/it]"
     ]
    },
    {
     "name": "stdout",
     "output_type": "stream",
     "text": [
      "Buscando dados para o deputado Yandra Moura (ID 220564)...\n"
     ]
    },
    {
     "name": "stderr",
     "output_type": "stream",
     "text": [
      "Processando deputados:  98%|███████████████████████████████████████████████████████▉ | 503/513 [09:01<00:10,  1.09s/it]"
     ]
    },
    {
     "name": "stdout",
     "output_type": "stream",
     "text": [
      "Buscando dados para o deputado Yury do Paredão (ID 220660)...\n"
     ]
    },
    {
     "name": "stderr",
     "output_type": "stream",
     "text": [
      "Processando deputados:  98%|████████████████████████████████████████████████████████ | 504/513 [09:02<00:09,  1.06s/it]"
     ]
    },
    {
     "name": "stdout",
     "output_type": "stream",
     "text": [
      "Buscando dados para o deputado Zé Adriano (ID 230768)...\n"
     ]
    },
    {
     "name": "stderr",
     "output_type": "stream",
     "text": [
      "Processando deputados:  98%|████████████████████████████████████████████████████████ | 505/513 [09:03<00:08,  1.06s/it]"
     ]
    },
    {
     "name": "stdout",
     "output_type": "stream",
     "text": [
      "Buscando dados para o deputado Zé Haroldo Cathedral (ID 220536)...\n"
     ]
    },
    {
     "name": "stderr",
     "output_type": "stream",
     "text": [
      "Processando deputados:  99%|████████████████████████████████████████████████████████▏| 506/513 [09:04<00:07,  1.04s/it]"
     ]
    },
    {
     "name": "stdout",
     "output_type": "stream",
     "text": [
      "Buscando dados para o deputado Zé Neto (ID 204559)...\n"
     ]
    },
    {
     "name": "stderr",
     "output_type": "stream",
     "text": [
      "Processando deputados:  99%|████████████████████████████████████████████████████████▎| 507/513 [09:05<00:06,  1.06s/it]"
     ]
    },
    {
     "name": "stdout",
     "output_type": "stream",
     "text": [
      "Buscando dados para o deputado Zé Silva (ID 160632)...\n"
     ]
    },
    {
     "name": "stderr",
     "output_type": "stream",
     "text": [
      "Processando deputados:  99%|████████████████████████████████████████████████████████▍| 508/513 [09:07<00:05,  1.12s/it]"
     ]
    },
    {
     "name": "stdout",
     "output_type": "stream",
     "text": [
      "Buscando dados para o deputado Zé Trovão (ID 220558)...\n"
     ]
    },
    {
     "name": "stderr",
     "output_type": "stream",
     "text": [
      "Processando deputados:  99%|████████████████████████████████████████████████████████▌| 509/513 [09:08<00:04,  1.12s/it]"
     ]
    },
    {
     "name": "stdout",
     "output_type": "stream",
     "text": [
      "Buscando dados para o deputado Zé Vitor (ID 204517)...\n"
     ]
    },
    {
     "name": "stderr",
     "output_type": "stream",
     "text": [
      "Processando deputados:  99%|████████████████████████████████████████████████████████▋| 510/513 [09:09<00:03,  1.10s/it]"
     ]
    },
    {
     "name": "stdout",
     "output_type": "stream",
     "text": [
      "Buscando dados para o deputado Zeca Dirceu (ID 160592)...\n"
     ]
    },
    {
     "name": "stderr",
     "output_type": "stream",
     "text": [
      "Processando deputados: 100%|████████████████████████████████████████████████████████▊| 511/513 [09:11<00:02,  1.35s/it]"
     ]
    },
    {
     "name": "stdout",
     "output_type": "stream",
     "text": [
      "Buscando dados para o deputado Zezinho Barbary (ID 220592)...\n"
     ]
    },
    {
     "name": "stderr",
     "output_type": "stream",
     "text": [
      "Processando deputados: 100%|████████████████████████████████████████████████████████▉| 512/513 [09:12<00:01,  1.26s/it]"
     ]
    },
    {
     "name": "stdout",
     "output_type": "stream",
     "text": [
      "Buscando dados para o deputado Zucco (ID 220552)...\n"
     ]
    },
    {
     "name": "stderr",
     "output_type": "stream",
     "text": [
      "Processando deputados: 100%|█████████████████████████████████████████████████████████| 513/513 [09:13<00:00,  1.08s/it]\n"
     ]
    },
    {
     "name": "stdout",
     "output_type": "stream",
     "text": [
      "Arquivo deputados.xlsx salvo com sucesso com todas as informações!\n"
     ]
    }
   ],
   "source": [
    "import requests\n",
    "import pandas as pd\n",
    "import time\n",
    "from tqdm import tqdm\n",
    "\n",
    "# URL Base da API\n",
    "BASE_URL = \"https://dadosabertos.camara.leg.br/api/v2\"\n",
    "\n",
    "# Função para buscar a lista de deputados\n",
    "def get_deputados():\n",
    "    url = f\"{BASE_URL}/deputados\"\n",
    "    response = requests.get(url)\n",
    "    if response.status_code == 200:\n",
    "        return response.json().get(\"dados\", [])\n",
    "    return []\n",
    "\n",
    "# Função para buscar detalhes de um deputado específico\n",
    "def get_deputado_info(deputado_id):\n",
    "    url = f\"{BASE_URL}/deputados/{deputado_id}\"\n",
    "    response = requests.get(url)\n",
    "    if response.status_code == 200:\n",
    "        return response.json().get(\"dados\", {})\n",
    "    return {}\n",
    "\n",
    "# Função para buscar despesas de um deputado\n",
    "def get_deputado_despesas(deputado_id):\n",
    "    url = f\"{BASE_URL}/deputados/{deputado_id}/despesas\"\n",
    "    response = requests.get(url)\n",
    "    if response.status_code == 200:\n",
    "        return response.json().get(\"dados\", [])\n",
    "    return []\n",
    "\n",
    "# Função para buscar votações de um deputado\n",
    "def get_votacoes():\n",
    "    url = f\"{BASE_URL}/votacoes\"\n",
    "    response = requests.get(url)\n",
    "    if response.status_code == 200:\n",
    "        return response.json().get(\"dados\", [])\n",
    "    return []\n",
    "\n",
    "# Função para buscar proposições de um deputado\n",
    "def get_proposicoes(deputado_id):\n",
    "    url = f\"{BASE_URL}/proposicoes?autor={deputado_id}\"\n",
    "    response = requests.get(url)\n",
    "    if response.status_code == 200:\n",
    "        return response.json().get(\"dados\", [])\n",
    "    return []\n",
    "\n",
    "# Função para buscar tramitações de uma proposição\n",
    "def get_tramitacoes(proposicao_id):\n",
    "    url = f\"{BASE_URL}/proposicoes/{proposicao_id}/tramitacoes\"\n",
    "    response = requests.get(url)\n",
    "    if response.status_code == 200:\n",
    "        return response.json().get(\"dados\", [])\n",
    "    return []\n",
    "\n",
    "# Obtendo todos os dados necessários\n",
    "deputados = get_deputados()\n",
    "deputados_df = pd.DataFrame(deputados)\n",
    "\n",
    "despesas_list = []\n",
    "votacoes_list = get_votacoes()\n",
    "proposicoes_list = []\n",
    "tramitacoes_list = []\n",
    "\n",
    "if not deputados_df.empty:\n",
    "    print(\"Coletando dados dos deputados...\")\n",
    "    for deputado in tqdm(deputados, desc=\"Processando deputados\"):\n",
    "        deputado_id = deputado[\"id\"]\n",
    "        print(f\"Buscando dados para o deputado {deputado['nome']} (ID {deputado_id})...\")\n",
    "        \n",
    "        despesas = get_deputado_despesas(deputado_id)\n",
    "        proposicoes = get_proposicoes(deputado_id)\n",
    "        \n",
    "        for despesa in despesas:\n",
    "            despesa[\"deputado_id\"] = deputado_id\n",
    "            despesas_list.append(despesa)\n",
    "        \n",
    "        for proposicao in proposicoes:\n",
    "            proposicao[\"deputado_id\"] = deputado_id\n",
    "            proposicoes_list.append(proposicao)\n",
    "            \n",
    "            tramitacoes = get_tramitacoes(proposicao[\"id\"])\n",
    "            for tramitacao in tramitacoes:\n",
    "                tramitacao[\"proposicao_id\"] = proposicao[\"id\"]\n",
    "                tramitacoes_list.append(tramitacao)\n",
    "        \n",
    "        time.sleep(0.5)  # Pequena pausa para evitar sobrecarga da API\n",
    "    \n",
    "    despesas_df = pd.DataFrame(despesas_list)\n",
    "    votacoes_df = pd.DataFrame(votacoes_list)\n",
    "    proposicoes_df = pd.DataFrame(proposicoes_list)\n",
    "    tramitacoes_df = pd.DataFrame(tramitacoes_list)\n",
    "    \n",
    "    with pd.ExcelWriter(\"deputados.xlsx\") as writer:\n",
    "        deputados_df.to_excel(writer, sheet_name=\"Deputados\", index=False)\n",
    "        if not despesas_df.empty:\n",
    "            despesas_df.to_excel(writer, sheet_name=\"Despesas\", index=False)\n",
    "        if not votacoes_df.empty:\n",
    "            votacoes_df.to_excel(writer, sheet_name=\"Votacoes\", index=False)\n",
    "        if not proposicoes_df.empty:\n",
    "            proposicoes_df.to_excel(writer, sheet_name=\"Proposicoes\", index=False)\n",
    "        if not tramitacoes_df.empty:\n",
    "            tramitacoes_df.to_excel(writer, sheet_name=\"Tramitacoes\", index=False)\n",
    "    \n",
    "    print(\"Arquivo deputados.xlsx salvo com sucesso com todas as informações!\")\n",
    "else:\n",
    "    print(\"Erro ao obter a lista de deputados.\")\n"
   ]
  }
 ],
 "metadata": {
  "kernelspec": {
   "display_name": "Python [conda env:base] *",
   "language": "python",
   "name": "conda-base-py"
  },
  "language_info": {
   "codemirror_mode": {
    "name": "ipython",
    "version": 3
   },
   "file_extension": ".py",
   "mimetype": "text/x-python",
   "name": "python",
   "nbconvert_exporter": "python",
   "pygments_lexer": "ipython3",
   "version": "3.12.7"
  }
 },
 "nbformat": 4,
 "nbformat_minor": 5
}
