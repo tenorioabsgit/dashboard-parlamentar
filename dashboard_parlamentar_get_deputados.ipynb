{
 "cells": [
  {
   "cell_type": "code",
   "execution_count": 5,
   "id": "9b7626ce-f402-434b-811d-ed259a2417ca",
   "metadata": {},
   "outputs": [
    {
     "name": "stdout",
     "output_type": "stream",
     "text": [
      "Arquivo 'deputados_lista.xlsx' salvo com sucesso!\n"
     ]
    }
   ],
   "source": [
    "import requests\n",
    "import pandas as pd\n",
    "\n",
    "# URL Base da API\n",
    "BASE_URL = \"https://dadosabertos.camara.leg.br/api/v2\"\n",
    "\n",
    "# Função para buscar a lista de deputados\n",
    "def get_deputados():\n",
    "    url = f\"{BASE_URL}/deputados\"\n",
    "    try:\n",
    "        response = requests.get(url)\n",
    "        response.raise_for_status()\n",
    "        return response.json().get(\"dados\", [])\n",
    "    except requests.exceptions.RequestException as e:\n",
    "        print(f\"Erro ao acessar API de deputados: {e}\")\n",
    "        return []\n",
    "\n",
    "# Obtendo a lista de deputados\n",
    "deputados = get_deputados()\n",
    "\n",
    "if deputados:\n",
    "    # Convertendo para DataFrame\n",
    "    deputados_df = pd.DataFrame(deputados)\n",
    "    \n",
    "    # Criando arquivo Excel\n",
    "    deputados_df.to_excel(\"deputados_lista.xlsx\", sheet_name=\"Deputados\", index=False)\n",
    "    \n",
    "    print(\"Arquivo 'deputados_lista.xlsx' salvo com sucesso!\")\n",
    "else:\n",
    "    print(\"Erro ao obter a lista de deputados.\")"
   ]
  }
 ],
 "metadata": {
  "kernelspec": {
   "display_name": "Python [conda env:base] *",
   "language": "python",
   "name": "conda-base-py"
  },
  "language_info": {
   "codemirror_mode": {
    "name": "ipython",
    "version": 3
   },
   "file_extension": ".py",
   "mimetype": "text/x-python",
   "name": "python",
   "nbconvert_exporter": "python",
   "pygments_lexer": "ipython3",
   "version": "3.12.7"
  }
 },
 "nbformat": 4,
 "nbformat_minor": 5
}
